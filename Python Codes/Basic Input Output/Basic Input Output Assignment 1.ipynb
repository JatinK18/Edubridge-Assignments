{
 "cells": [
  {
   "cell_type": "markdown",
   "id": "9e34c16d",
   "metadata": {},
   "source": [
    "# Basic Input Output "
   ]
  },
  {
   "cell_type": "markdown",
   "id": "4accf02d",
   "metadata": {},
   "source": [
    "### Self Introduction"
   ]
  },
  {
   "cell_type": "code",
   "execution_count": 1,
   "id": "8172cd09",
   "metadata": {},
   "outputs": [
    {
     "name": "stdout",
     "output_type": "stream",
     "text": [
      "Hi, Welcome to Python\n"
     ]
    }
   ],
   "source": [
    "print('Hi, Welcome to Python')"
   ]
  },
  {
   "cell_type": "markdown",
   "id": "c5decbd3",
   "metadata": {},
   "source": [
    "### Addition"
   ]
  },
  {
   "cell_type": "code",
   "execution_count": 2,
   "id": "1515c110",
   "metadata": {},
   "outputs": [
    {
     "name": "stdout",
     "output_type": "stream",
     "text": [
      "Enter num1 = 5\n",
      "Enter num2 = 4\n",
      "Sum =  9\n"
     ]
    }
   ],
   "source": [
    "n1= int(input('Enter num1 = '))\n",
    "n2= int(input('Enter num2 = '))\n",
    "sum = n1+n2\n",
    "print('Sum = ',sum)"
   ]
  },
  {
   "cell_type": "markdown",
   "id": "00dbde51",
   "metadata": {},
   "source": [
    "### Subtraction"
   ]
  },
  {
   "cell_type": "code",
   "execution_count": 3,
   "id": "7554da5a",
   "metadata": {},
   "outputs": [
    {
     "name": "stdout",
     "output_type": "stream",
     "text": [
      "Enter num1 = 78\n",
      "Enter num2 = 52\n",
      "Sub =  26\n"
     ]
    }
   ],
   "source": [
    "n1= int(input('Enter num1 = '))\n",
    "n2= int(input('Enter num2 = '))\n",
    "sub = n1-n2\n",
    "print('Sub = ',sub)"
   ]
  },
  {
   "cell_type": "markdown",
   "id": "c4ec5485",
   "metadata": {},
   "source": [
    "   ### Multiplication"
   ]
  },
  {
   "cell_type": "code",
   "execution_count": 4,
   "id": "176f2ec7",
   "metadata": {},
   "outputs": [
    {
     "name": "stdout",
     "output_type": "stream",
     "text": [
      "Enter num1 = 45\n",
      "Enter num2 = 4\n",
      "Mul =  180\n"
     ]
    }
   ],
   "source": [
    "n1= int(input('Enter num1 = '))\n",
    "n2= int(input('Enter num2 = '))\n",
    "mul = n1*n2\n",
    "print('Mul = ',mul)"
   ]
  },
  {
   "cell_type": "markdown",
   "id": "30d6f045",
   "metadata": {},
   "source": [
    "### Division"
   ]
  },
  {
   "cell_type": "code",
   "execution_count": 5,
   "id": "5f880a9b",
   "metadata": {},
   "outputs": [
    {
     "name": "stdout",
     "output_type": "stream",
     "text": [
      "Enter num1 = 8\n",
      "Enter num2 = 4\n",
      "Div =  2.0\n"
     ]
    }
   ],
   "source": [
    "n1= int(input('Enter num1 = '))\n",
    "n2= int(input('Enter num2 = '))\n",
    "div = n1/n2\n",
    "print('Div = ',div)"
   ]
  },
  {
   "cell_type": "markdown",
   "id": "cef31606",
   "metadata": {},
   "source": [
    "### Modulus"
   ]
  },
  {
   "cell_type": "code",
   "execution_count": 7,
   "id": "d2e33013",
   "metadata": {},
   "outputs": [
    {
     "name": "stdout",
     "output_type": "stream",
     "text": [
      "Enter num1 = 5\n",
      "Enter num2 = 4\n",
      "Rem =  1\n"
     ]
    }
   ],
   "source": [
    "n1= int(input('Enter num1 = '))\n",
    "n2= int(input('Enter num2 = '))\n",
    "rem = n1%n2\n",
    "print('Rem = ',rem)"
   ]
  },
  {
   "cell_type": "markdown",
   "id": "0fdbff1c",
   "metadata": {},
   "source": [
    "### Exponent"
   ]
  },
  {
   "cell_type": "code",
   "execution_count": 8,
   "id": "09da4275",
   "metadata": {},
   "outputs": [
    {
     "name": "stdout",
     "output_type": "stream",
     "text": [
      "Enter num1 = 8\n",
      "Enter num2 = 5\n",
      "Exp =  32768\n"
     ]
    }
   ],
   "source": [
    "n1= int(input('Enter num1 = '))\n",
    "n2= int(input('Enter num2 = '))\n",
    "exp = n1**n2\n",
    "print('Exp = ',exp)"
   ]
  },
  {
   "cell_type": "code",
   "execution_count": null,
   "id": "5abbad17",
   "metadata": {},
   "outputs": [],
   "source": []
  }
 ],
 "metadata": {
  "kernelspec": {
   "display_name": "Python 3 (ipykernel)",
   "language": "python",
   "name": "python3"
  },
  "language_info": {
   "codemirror_mode": {
    "name": "ipython",
    "version": 3
   },
   "file_extension": ".py",
   "mimetype": "text/x-python",
   "name": "python",
   "nbconvert_exporter": "python",
   "pygments_lexer": "ipython3",
   "version": "3.9.12"
  }
 },
 "nbformat": 4,
 "nbformat_minor": 5
}
