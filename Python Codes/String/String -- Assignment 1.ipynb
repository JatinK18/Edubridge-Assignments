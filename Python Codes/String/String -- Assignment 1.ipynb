{
 "cells": [
  {
   "cell_type": "markdown",
   "id": "80f50d4e",
   "metadata": {},
   "source": [
    "### Write a program to reverse the string"
   ]
  },
  {
   "cell_type": "code",
   "execution_count": 1,
   "id": "d1a26a8a",
   "metadata": {},
   "outputs": [
    {
     "name": "stdout",
     "output_type": "stream",
     "text": [
      "Hello how are you ?\n",
      "? uoy era woh olleH\n"
     ]
    }
   ],
   "source": [
    "a='Hello how are you ?'\n",
    "b=a[::-1]\n",
    "print(a)\n",
    "print(b)"
   ]
  },
  {
   "cell_type": "markdown",
   "id": "47dac0d7",
   "metadata": {},
   "source": [
    "### Write a program to check whether a given string is palindrome or not "
   ]
  },
  {
   "cell_type": "code",
   "execution_count": 2,
   "id": "7dc6b5e6",
   "metadata": {},
   "outputs": [
    {
     "name": "stdout",
     "output_type": "stream",
     "text": [
      "Enter a word = abcdedcba\n",
      "Given string is palindrome\n"
     ]
    }
   ],
   "source": [
    "n=input('Enter a word = ')\n",
    "m=n[::-1]\n",
    "if n==m:\n",
    "    print('Given string is palindrome')\n",
    "else :\n",
    "    print('Given string is not a palindrome')"
   ]
  },
  {
   "cell_type": "markdown",
   "id": "fe351edf",
   "metadata": {},
   "source": [
    "### Write a program to print length of string without using len() function"
   ]
  },
  {
   "cell_type": "code",
   "execution_count": 3,
   "id": "b1b9278d",
   "metadata": {},
   "outputs": [
    {
     "name": "stdout",
     "output_type": "stream",
     "text": [
      "Enter your string :Hello how are u\n",
      "length of string is :  15\n"
     ]
    }
   ],
   "source": [
    "n=input('Enter your string :')\n",
    "count=0\n",
    "while n[count:]:\n",
    "    count+=1\n",
    "print('length of string is : ',count)"
   ]
  },
  {
   "cell_type": "markdown",
   "id": "b0130091",
   "metadata": {},
   "source": [
    "### Write a program to find length of a string"
   ]
  },
  {
   "cell_type": "code",
   "execution_count": 4,
   "id": "9732a874",
   "metadata": {
    "scrolled": true
   },
   "outputs": [
    {
     "name": "stdout",
     "output_type": "stream",
     "text": [
      "Enter your string :Hello world\n",
      "11\n"
     ]
    }
   ],
   "source": [
    "n=input('Enter your string :')\n",
    "print(len(n))"
   ]
  },
  {
   "cell_type": "markdown",
   "id": "feefff23",
   "metadata": {},
   "source": [
    "### Write a program to print only number of characters in a string"
   ]
  },
  {
   "cell_type": "code",
   "execution_count": 5,
   "id": "75984975",
   "metadata": {},
   "outputs": [
    {
     "name": "stdout",
     "output_type": "stream",
     "text": [
      "Enter your string =Hello world\n",
      "no.of characters in string = 10\n"
     ]
    }
   ],
   "source": [
    "n=input('Enter your string =')\n",
    "i = 0\n",
    "count = 0\n",
    "while i<len(n):\n",
    "    if n[i].isalpha()==True:\n",
    "        count += 1\n",
    "    i += 1\n",
    "print('no.of characters in string =', count)"
   ]
  },
  {
   "cell_type": "markdown",
   "id": "f2c0ef67",
   "metadata": {},
   "source": [
    "### Write a program to take input from user and print it in upper and lower case"
   ]
  },
  {
   "cell_type": "code",
   "execution_count": 7,
   "id": "d0bb9aca",
   "metadata": {},
   "outputs": [
    {
     "name": "stdout",
     "output_type": "stream",
     "text": [
      "Enter your string = Hi You Ok ?\n",
      "Converting String to UPPER Case :  HI YOU OK ?\n",
      "Converting String to lower Case :  hi you ok ?\n"
     ]
    }
   ],
   "source": [
    "n=input('Enter your string = ')\n",
    "print('Converting String to UPPER Case : ',n.upper())\n",
    "print('Converting String to lower Case : ',n.lower())"
   ]
  },
  {
   "cell_type": "code",
   "execution_count": null,
   "id": "0a8d4fed",
   "metadata": {},
   "outputs": [],
   "source": []
  }
 ],
 "metadata": {
  "kernelspec": {
   "display_name": "Python 3 (ipykernel)",
   "language": "python",
   "name": "python3"
  },
  "language_info": {
   "codemirror_mode": {
    "name": "ipython",
    "version": 3
   },
   "file_extension": ".py",
   "mimetype": "text/x-python",
   "name": "python",
   "nbconvert_exporter": "python",
   "pygments_lexer": "ipython3",
   "version": "3.9.12"
  }
 },
 "nbformat": 4,
 "nbformat_minor": 5
}
