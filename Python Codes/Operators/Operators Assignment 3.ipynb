{
 "cells": [
  {
   "cell_type": "markdown",
   "id": "fe242cbf",
   "metadata": {},
   "source": [
    "### Membership Operators"
   ]
  },
  {
   "cell_type": "code",
   "execution_count": 1,
   "id": "444d2101",
   "metadata": {},
   "outputs": [
    {
     "name": "stdout",
     "output_type": "stream",
     "text": [
      "True\n"
     ]
    }
   ],
   "source": [
    "m='my name is Jatin'\n",
    "print('is' in m)"
   ]
  },
  {
   "cell_type": "code",
   "execution_count": 2,
   "id": "1ff0b451",
   "metadata": {},
   "outputs": [
    {
     "name": "stdout",
     "output_type": "stream",
     "text": [
      "False\n"
     ]
    }
   ],
   "source": [
    "m='my name is Jatin'\n",
    "print('it' in m)"
   ]
  },
  {
   "cell_type": "code",
   "execution_count": 3,
   "id": "f074dca3",
   "metadata": {},
   "outputs": [
    {
     "name": "stdout",
     "output_type": "stream",
     "text": [
      "True\n"
     ]
    }
   ],
   "source": [
    "m='my name is Jatin'\n",
    "print('it' not in m)\n"
   ]
  },
  {
   "cell_type": "code",
   "execution_count": 4,
   "id": "ee77adf2",
   "metadata": {},
   "outputs": [
    {
     "name": "stdout",
     "output_type": "stream",
     "text": [
      "False\n"
     ]
    }
   ],
   "source": [
    "m='my name is Jatin'\n",
    "print('is' not in m)"
   ]
  },
  {
   "cell_type": "markdown",
   "id": "eddfc1fb",
   "metadata": {},
   "source": [
    "### Bitwise Operators"
   ]
  },
  {
   "cell_type": "code",
   "execution_count": 5,
   "id": "70faf40d",
   "metadata": {},
   "outputs": [
    {
     "name": "stdout",
     "output_type": "stream",
     "text": [
      "bitwise AND 4\n"
     ]
    }
   ],
   "source": [
    "# bitwise AND - returns 1 if both the bits are 1 else 0\n",
    "x = 6 # binary form 0110\n",
    "y = 4 # binary form 0100\n",
    "print('bitwise AND', x&y)"
   ]
  },
  {
   "cell_type": "code",
   "execution_count": 6,
   "id": "2dc19815",
   "metadata": {},
   "outputs": [
    {
     "name": "stdout",
     "output_type": "stream",
     "text": [
      "bitwise OR 6\n"
     ]
    }
   ],
   "source": [
    "# bitwise OR - returns 1 if either of the bits is 1 else 0\n",
    "x = 6 # binary form 0110\n",
    "y = 4 # binary form 0100\n",
    "print('bitwise OR', x|y)"
   ]
  },
  {
   "cell_type": "code",
   "execution_count": 7,
   "id": "11e6e122",
   "metadata": {},
   "outputs": [
    {
     "name": "stdout",
     "output_type": "stream",
     "text": [
      "bitwise NOT -3\n"
     ]
    }
   ],
   "source": [
    "# bitwise NOT - returns one's complement of the number\n",
    "x = 2 # binary form 0010\n",
    "print('bitwise NOT',~x)"
   ]
  },
  {
   "cell_type": "code",
   "execution_count": 8,
   "id": "6a368eb1",
   "metadata": {},
   "outputs": [
    {
     "name": "stdout",
     "output_type": "stream",
     "text": [
      "bitwise XOR 20\n"
     ]
    }
   ],
   "source": [
    "# bitwise XOR - returns 1 if one of the bits is 1 and other is 0 else returns false\n",
    "x = 18 # binary form 10010\n",
    "y = 6  # binary form 01100\n",
    "print('bitwise XOR',x^y)"
   ]
  },
  {
   "cell_type": "code",
   "execution_count": 9,
   "id": "98f85cf6",
   "metadata": {},
   "outputs": [
    {
     "name": "stdout",
     "output_type": "stream",
     "text": [
      "bitwise right shift 3\n",
      "bitwise left shift 12\n"
     ]
    }
   ],
   "source": [
    "x = 6 # binary form 00110\n",
    "print('bitwise right shift',x>>1) #0011\n",
    "print('bitwise left shift',x<<1)"
   ]
  },
  {
   "cell_type": "code",
   "execution_count": null,
   "id": "d411a6de",
   "metadata": {},
   "outputs": [],
   "source": []
  }
 ],
 "metadata": {
  "kernelspec": {
   "display_name": "Python 3 (ipykernel)",
   "language": "python",
   "name": "python3"
  },
  "language_info": {
   "codemirror_mode": {
    "name": "ipython",
    "version": 3
   },
   "file_extension": ".py",
   "mimetype": "text/x-python",
   "name": "python",
   "nbconvert_exporter": "python",
   "pygments_lexer": "ipython3",
   "version": "3.9.12"
  }
 },
 "nbformat": 4,
 "nbformat_minor": 5
}
