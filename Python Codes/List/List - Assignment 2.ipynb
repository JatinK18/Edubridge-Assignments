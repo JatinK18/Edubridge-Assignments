{
 "cells": [
  {
   "cell_type": "markdown",
   "id": "5e76b9c9",
   "metadata": {},
   "source": [
    "### Write a program to copy a list"
   ]
  },
  {
   "cell_type": "code",
   "execution_count": 1,
   "id": "0db3955d",
   "metadata": {},
   "outputs": [
    {
     "name": "stdout",
     "output_type": "stream",
     "text": [
      "[1, 2, 3, 'ajay', 'ricky', 45.5, 77.2]\n"
     ]
    }
   ],
   "source": [
    "# Method 1 :- Using assignment operator\n",
    "i=[1,2,3,'ajay','ricky',45.5,77.2]\n",
    "n=i\n",
    "print(n)"
   ]
  },
  {
   "cell_type": "code",
   "execution_count": 2,
   "id": "51c56f93",
   "metadata": {},
   "outputs": [
    {
     "name": "stdout",
     "output_type": "stream",
     "text": [
      "[1, 2, 3, 'ajay', 'ricky', 45.5, 77.2]\n"
     ]
    }
   ],
   "source": [
    "# Method 2 :- Using copy() function\n",
    "i=[1,2,3,'ajay','ricky',45.5,77.2]\n",
    "x=i.copy()\n",
    "print(x)"
   ]
  },
  {
   "cell_type": "markdown",
   "id": "125167a5",
   "metadata": {},
   "source": [
    "### Write a program to find the second largest number in the list"
   ]
  },
  {
   "cell_type": "code",
   "execution_count": 3,
   "id": "cdc42a45",
   "metadata": {},
   "outputs": [
    {
     "name": "stdout",
     "output_type": "stream",
     "text": [
      "[2, 2, 4, 5, 5, 7, 8, 9, 14, 58]\n",
      "Second largest number in the list is :  14\n"
     ]
    }
   ],
   "source": [
    "# Method 1 :- Taking fixed values in a list\n",
    "l1=[4,58,9,2,14,5,7,8,2,5]\n",
    "l1.sort()\n",
    "print(l1)\n",
    "print('Second largest number in the list is : ',l1[-2])"
   ]
  },
  {
   "cell_type": "code",
   "execution_count": 4,
   "id": "30a4dd6d",
   "metadata": {},
   "outputs": [
    {
     "name": "stdout",
     "output_type": "stream",
     "text": [
      "55 66 99 88 22 33 44 \n",
      "['22', '33', '44', '55', '66', '88', '99']\n",
      "Second Largest number in the list is :  88\n"
     ]
    }
   ],
   "source": [
    "# Method 2 :- Taking user input as list\n",
    "n=input()\n",
    "m=n.split()\n",
    "m.sort()\n",
    "print(m)\n",
    "print('Second Largest number in the list is : ',m[-2])"
   ]
  },
  {
   "cell_type": "markdown",
   "id": "eb19da4d",
   "metadata": {},
   "source": [
    "### Write a program to print the second smallest number in the list"
   ]
  },
  {
   "cell_type": "code",
   "execution_count": 5,
   "id": "53e8ef5b",
   "metadata": {},
   "outputs": [
    {
     "name": "stdout",
     "output_type": "stream",
     "text": [
      "[1, 2, 2, 5, 6, 48, 63, 88, 96]\n",
      "Second smallest number in the list is :  2\n"
     ]
    }
   ],
   "source": [
    "# Method 1 :- Taking fixed values in a list\n",
    "l=[6,88,96,2,48,5,63,2,1]\n",
    "l.sort()\n",
    "print(l)\n",
    "print('Second smallest number in the list is : ',l[1])"
   ]
  },
  {
   "cell_type": "code",
   "execution_count": 6,
   "id": "a15ba037",
   "metadata": {},
   "outputs": [
    {
     "name": "stdout",
     "output_type": "stream",
     "text": [
      "88 66 99 88 22 11 44\n",
      "['11', '22', '44', '66', '88', '88', '99']\n",
      "Second smallest number in the list is :  22\n"
     ]
    }
   ],
   "source": [
    "# Method 2 :- Taking user input as list\n",
    "n=input()\n",
    "m=n.split()\n",
    "m.sort()\n",
    "print(m)\n",
    "print('Second smallest number in the list is : ',m[1])"
   ]
  },
  {
   "cell_type": "markdown",
   "id": "25507a10",
   "metadata": {},
   "source": [
    "### Write a program to get unique values from a list"
   ]
  },
  {
   "cell_type": "code",
   "execution_count": 7,
   "id": "085766a6",
   "metadata": {},
   "outputs": [
    {
     "name": "stdout",
     "output_type": "stream",
     "text": [
      "Given list is :\n",
      " [11, 25, 11, 23, 25, 66, 77, 23, 23, 77, 66]\n",
      "Unique values from list are :\n",
      " [11, 23, 25, 66, 77]\n"
     ]
    }
   ],
   "source": [
    "n=[11,25,11,23,25,66,77,23,23,77,66]\n",
    "m=set(n)\n",
    "j=list(m)\n",
    "j.sort()\n",
    "print('Given list is :\\n',n)\n",
    "print('Unique values from list are :\\n',j)"
   ]
  },
  {
   "cell_type": "markdown",
   "id": "f738cb51",
   "metadata": {},
   "source": [
    "### Write a program to get the frequency of the elements in a list"
   ]
  },
  {
   "cell_type": "code",
   "execution_count": 8,
   "id": "1c8140e1",
   "metadata": {},
   "outputs": [
    {
     "name": "stdout",
     "output_type": "stream",
     "text": [
      "[1, 2, 3, 1, 2, 3, 4, 5, 6, 4, 5, 6]\n",
      "Frequency of elements of list are :  {1: 2, 2: 2, 3: 2, 4: 2, 5: 2, 6: 2}\n"
     ]
    }
   ],
   "source": [
    "n=[1,2,3,1,2,3,4,5,6,4,5,6]\n",
    "m=n.copy()\n",
    "c=[0]*len(m)\n",
    "my=dict()\n",
    "for i in range(len(m)):\n",
    "    for j in range(len(n)):\n",
    "        if m[i]==n[j]:\n",
    "            c[i]+=1\n",
    "        my[m[i]]=c[i]\n",
    "print(n)\n",
    "print('Frequency of elements of list are : ',my)"
   ]
  },
  {
   "cell_type": "code",
   "execution_count": null,
   "id": "081a1f80",
   "metadata": {},
   "outputs": [],
   "source": []
  }
 ],
 "metadata": {
  "kernelspec": {
   "display_name": "Python 3 (ipykernel)",
   "language": "python",
   "name": "python3"
  },
  "language_info": {
   "codemirror_mode": {
    "name": "ipython",
    "version": 3
   },
   "file_extension": ".py",
   "mimetype": "text/x-python",
   "name": "python",
   "nbconvert_exporter": "python",
   "pygments_lexer": "ipython3",
   "version": "3.9.12"
  }
 },
 "nbformat": 4,
 "nbformat_minor": 5
}
