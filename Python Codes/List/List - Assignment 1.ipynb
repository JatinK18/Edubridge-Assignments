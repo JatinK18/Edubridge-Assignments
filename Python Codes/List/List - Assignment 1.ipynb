{
 "cells": [
  {
   "cell_type": "markdown",
   "id": "61ffa23c",
   "metadata": {},
   "source": [
    "### Program to sum all the items in a list"
   ]
  },
  {
   "cell_type": "code",
   "execution_count": 1,
   "id": "3e976019",
   "metadata": {},
   "outputs": [
    {
     "name": "stdout",
     "output_type": "stream",
     "text": [
      "Sum =  1apple2banana3orange\n"
     ]
    }
   ],
   "source": [
    "a=[1,'apple',2,'banana',3,'orange']\n",
    "sum1=str(a[0])+a[1]+str(a[2])+a[3]+str(a[4])+a[5]\n",
    "print('Sum = ',sum1)"
   ]
  },
  {
   "cell_type": "markdown",
   "id": "890d4d57",
   "metadata": {},
   "source": [
    "### Program to sum all the items in a list"
   ]
  },
  {
   "cell_type": "code",
   "execution_count": 2,
   "id": "b8aff5a0",
   "metadata": {},
   "outputs": [
    {
     "name": "stdout",
     "output_type": "stream",
     "text": [
      "Sum =  10\n"
     ]
    }
   ],
   "source": [
    "a=[1,2,3,4]\n",
    "i=0\n",
    "sum1=0\n",
    "while i<len(a):\n",
    "    sum1+= a[i]\n",
    "    i+=1\n",
    "print('Sum = ',sum1)"
   ]
  },
  {
   "cell_type": "markdown",
   "id": "1b83e1dd",
   "metadata": {},
   "source": [
    "### Program to multiply all the items in a list"
   ]
  },
  {
   "cell_type": "code",
   "execution_count": 3,
   "id": "99051eeb",
   "metadata": {},
   "outputs": [
    {
     "name": "stdout",
     "output_type": "stream",
     "text": [
      "Multiplication of all items =  24\n"
     ]
    }
   ],
   "source": [
    "a=[1,2,3,4]\n",
    "i=0\n",
    "mul=1\n",
    "while i<len(a):\n",
    "    mul*= a[i]\n",
    "    i+=1\n",
    "print('Multiplication of all items = ',mul)"
   ]
  },
  {
   "cell_type": "markdown",
   "id": "e3580855",
   "metadata": {},
   "source": [
    "### Program to multiply all the items in a list"
   ]
  },
  {
   "cell_type": "code",
   "execution_count": 4,
   "id": "9124a081",
   "metadata": {},
   "outputs": [
    {
     "name": "stdout",
     "output_type": "stream",
     "text": [
      "Multiplication of all items =  AppleAppleAppleAppleAppleApple\n"
     ]
    }
   ],
   "source": [
    "a=[1,'Apple',2,3]\n",
    "mul=a[0]*a[1]*a[2]*a[3]\n",
    "print('Multiplication of all items = ',mul)\n"
   ]
  },
  {
   "cell_type": "markdown",
   "id": "56db95c7",
   "metadata": {},
   "source": [
    "### Program to Print the largest number in the list"
   ]
  },
  {
   "cell_type": "code",
   "execution_count": 5,
   "id": "cecd11e5",
   "metadata": {},
   "outputs": [
    {
     "name": "stdout",
     "output_type": "stream",
     "text": [
      "[44, 88, 52, 13]\n",
      "Largest number in list =  88\n"
     ]
    }
   ],
   "source": [
    "a=[44,88,52,13]\n",
    "print(a)\n",
    "print('Largest number in list = ',max(a))"
   ]
  },
  {
   "cell_type": "markdown",
   "id": "aaa15ce8",
   "metadata": {},
   "source": [
    "### Program to print the smallest number in the list"
   ]
  },
  {
   "cell_type": "code",
   "execution_count": 6,
   "id": "792a6a31",
   "metadata": {},
   "outputs": [
    {
     "name": "stdout",
     "output_type": "stream",
     "text": [
      "[44, 88, 52, 13]\n",
      "Smallest number in list =  13\n"
     ]
    }
   ],
   "source": [
    "a=[44,88,52,13]\n",
    "print(a)\n",
    "print('Smallest number in list = ',min(a))"
   ]
  },
  {
   "cell_type": "markdown",
   "id": "8b10f018",
   "metadata": {},
   "source": [
    "### Program to count number of strings in a list"
   ]
  },
  {
   "cell_type": "code",
   "execution_count": 7,
   "id": "bb1e31c2",
   "metadata": {},
   "outputs": [
    {
     "name": "stdout",
     "output_type": "stream",
     "text": [
      "7\n"
     ]
    }
   ],
   "source": [
    "a=['1','apple','2','banana','3','orange','1']\n",
    "count=0\n",
    "i=0\n",
    "while i<len(a):\n",
    "    count+=1\n",
    "    i+=1\n",
    "print(count)"
   ]
  },
  {
   "cell_type": "markdown",
   "id": "8a28bf15",
   "metadata": {},
   "source": [
    "### Program to check whether list is empty or not"
   ]
  },
  {
   "cell_type": "code",
   "execution_count": 8,
   "id": "04dfa619",
   "metadata": {},
   "outputs": [
    {
     "name": "stdout",
     "output_type": "stream",
     "text": [
      "Enter items as list :\n",
      "Entered list is:  []\n",
      "<class 'list'>\n",
      "list is empty\n"
     ]
    }
   ],
   "source": [
    "n=input('Enter items as list :')\n",
    "m=n.split()\n",
    "print('Entered list is: ',m)\n",
    "print(type(m))\n",
    "if len(m)==0:\n",
    "    print('list is empty')\n",
    "else :\n",
    "    print('List is not empty')"
   ]
  },
  {
   "cell_type": "markdown",
   "id": "7aa4174b",
   "metadata": {},
   "source": [
    "### Program to calculate square of numbers between 0-10 using list comprehension"
   ]
  },
  {
   "cell_type": "code",
   "execution_count": 9,
   "id": "85ba1592",
   "metadata": {},
   "outputs": [
    {
     "name": "stdout",
     "output_type": "stream",
     "text": [
      "[0, 1, 4, 9, 16, 25, 36, 49, 64, 81, 100]\n"
     ]
    }
   ],
   "source": [
    "s=[i**2 for i in range(11)]\n",
    "print(s)\n",
    "i+=1"
   ]
  },
  {
   "cell_type": "markdown",
   "id": "73b4b74f",
   "metadata": {},
   "source": [
    "### Program to multiply whole list by 10"
   ]
  },
  {
   "cell_type": "code",
   "execution_count": 10,
   "id": "ebc83f32",
   "metadata": {
    "scrolled": true
   },
   "outputs": [
    {
     "name": "stdout",
     "output_type": "stream",
     "text": [
      "Multiplication of all items =  240\n"
     ]
    }
   ],
   "source": [
    "a=[1,2,3,4]\n",
    "i=0\n",
    "mul=10\n",
    "while i<len(a):\n",
    "    mul*= a[i]\n",
    "    i+=1\n",
    "print('Multiplication of all items = ',mul)"
   ]
  },
  {
   "cell_type": "markdown",
   "id": "d92aa985",
   "metadata": {},
   "source": [
    "### Program to extract numbers from a string using list comprehension"
   ]
  },
  {
   "cell_type": "code",
   "execution_count": 11,
   "id": "b8a63009",
   "metadata": {},
   "outputs": [
    {
     "name": "stdout",
     "output_type": "stream",
     "text": [
      "Enter your string = 123587965412\n",
      "['1', '2', '3', '5', '8', '7', '9', '6', '5', '4', '1', '2']\n"
     ]
    }
   ],
   "source": [
    "n=input('Enter your string = ')\n",
    "m=[i for i in n]\n",
    "print (m)"
   ]
  },
  {
   "cell_type": "markdown",
   "id": "0d94f240",
   "metadata": {},
   "source": [
    "### Program to remove all the duplicate items from a list"
   ]
  },
  {
   "cell_type": "code",
   "execution_count": 12,
   "id": "52619071",
   "metadata": {},
   "outputs": [
    {
     "name": "stdout",
     "output_type": "stream",
     "text": [
      "Enter your list = 123451234\n",
      "Entered list :  ['1', '2', '3', '4', '5', '1', '2', '3', '4']\n",
      "Remove Duplicate:  ['1', '2', '3', '4', '5']\n"
     ]
    }
   ],
   "source": [
    "n=input('Enter your list = ')\n",
    "m=[i for i in n]\n",
    "print('Entered list : ',m)\n",
    "l1=[]\n",
    "for i in n:\n",
    "    if i not in l1:\n",
    "        l1.append(i)\n",
    "print('Remove Duplicate: ',l1)"
   ]
  },
  {
   "cell_type": "markdown",
   "id": "a2bdc2a7",
   "metadata": {},
   "source": [
    "### Program to find the list consist of atleast one common element "
   ]
  },
  {
   "cell_type": "code",
   "execution_count": 13,
   "id": "2c79d39c",
   "metadata": {},
   "outputs": [
    {
     "name": "stdout",
     "output_type": "stream",
     "text": [
      "Enter list 1 : 12345\n",
      "Enter list 2 : 34568\n",
      "The Given lists consist of common elements =  True\n",
      "Common Elements :  ['3', '4', '5']\n"
     ]
    }
   ],
   "source": [
    "l1=input('Enter list 1 : ')\n",
    "l2=input('Enter list 2 : ')\n",
    "result=False\n",
    "l3=[]\n",
    "for i in l1:\n",
    "    for j in l2:\n",
    "        if i==j:\n",
    "            result=True\n",
    "            l3.append(i)\n",
    "print('The Given lists consist of common elements = ',result)\n",
    "print('Common Elements : ',l3)"
   ]
  },
  {
   "cell_type": "code",
   "execution_count": null,
   "id": "08707299",
   "metadata": {},
   "outputs": [],
   "source": []
  }
 ],
 "metadata": {
  "kernelspec": {
   "display_name": "Python 3 (ipykernel)",
   "language": "python",
   "name": "python3"
  },
  "language_info": {
   "codemirror_mode": {
    "name": "ipython",
    "version": 3
   },
   "file_extension": ".py",
   "mimetype": "text/x-python",
   "name": "python",
   "nbconvert_exporter": "python",
   "pygments_lexer": "ipython3",
   "version": "3.9.12"
  }
 },
 "nbformat": 4,
 "nbformat_minor": 5
}
