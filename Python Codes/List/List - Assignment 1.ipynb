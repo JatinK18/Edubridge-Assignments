{
 "cells": [
  {
   "cell_type": "markdown",
   "id": "61ffa23c",
   "metadata": {},
   "source": [
    "### Program to sum all the items in a list"
   ]
  },
  {
   "cell_type": "code",
   "execution_count": 1,
   "id": "3e976019",
   "metadata": {},
   "outputs": [
    {
     "name": "stdout",
     "output_type": "stream",
     "text": [
      "Sum =  1apple2banana3orange\n"
     ]
    }
   ],
   "source": [
    "a=[1,'apple',2,'banana',3,'orange']\n",
    "sum1=str(a[0])+a[1]+str(a[2])+a[3]+str(a[4])+a[5]\n",
    "print('Sum = ',sum1)"
   ]
  },
  {
   "cell_type": "markdown",
   "id": "890d4d57",
   "metadata": {},
   "source": [
    "### Program to sum all the items in a list"
   ]
  },
  {
   "cell_type": "code",
   "execution_count": 2,
   "id": "b8aff5a0",
   "metadata": {},
   "outputs": [
    {
     "name": "stdout",
     "output_type": "stream",
     "text": [
      "Sum =  10\n"
     ]
    }
   ],
   "source": [
    "a=[1,2,3,4]\n",
    "i=0\n",
    "sum1=0\n",
    "while i<len(a):\n",
    "    sum1+= a[i]\n",
    "    i+=1\n",
    "print('Sum = ',sum1)"
   ]
  },
  {
   "cell_type": "markdown",
   "id": "1b83e1dd",
   "metadata": {},
   "source": [
    "### Program to multiply all the items in a list"
   ]
  },
  {
   "cell_type": "code",
   "execution_count": 3,
   "id": "99051eeb",
   "metadata": {},
   "outputs": [
    {
     "name": "stdout",
     "output_type": "stream",
     "text": [
      "Multiplication of all items =  24\n"
     ]
    }
   ],
   "source": [
    "a=[1,2,3,4]\n",
    "i=0\n",
    "mul=1\n",
    "while i<len(a):\n",
    "    mul*= a[i]\n",
    "    i+=1\n",
    "print('Multiplication of all items = ',mul)"
   ]
  },
  {
   "cell_type": "markdown",
   "id": "e3580855",
   "metadata": {},
   "source": [
    "### Program to multiply all the items in a list"
   ]
  },
  {
   "cell_type": "code",
   "execution_count": 4,
   "id": "9124a081",
   "metadata": {},
   "outputs": [
    {
     "name": "stdout",
     "output_type": "stream",
     "text": [
      "Multiplication of all items =  AppleAppleAppleAppleAppleApple\n"
     ]
    }
   ],
   "source": [
    "a=[1,'Apple',2,3]\n",
    "mul=a[0]*a[1]*a[2]*a[3]\n",
    "print('Multiplication of all items = ',mul)\n"
   ]
  },
  {
   "cell_type": "markdown",
   "id": "56db95c7",
   "metadata": {},
   "source": [
    "### Program to Print the largest number in the list"
   ]
  },
  {
   "cell_type": "code",
   "execution_count": 5,
   "id": "cecd11e5",
   "metadata": {},
   "outputs": [
    {
     "name": "stdout",
     "output_type": "stream",
     "text": [
      "[44, 88, 52, 13]\n",
      "Largest number in list =  88\n"
     ]
    }
   ],
   "source": [
    "a=[44,88,52,13]\n",
    "print(a)\n",
    "print('Largest number in list = ',max(a))"
   ]
  },
  {
   "cell_type": "markdown",
   "id": "aaa15ce8",
   "metadata": {},
   "source": [
    "### Program to print the smallest number in the list"
   ]
  },
  {
   "cell_type": "code",
   "execution_count": 6,
   "id": "792a6a31",
   "metadata": {},
   "outputs": [
    {
     "name": "stdout",
     "output_type": "stream",
     "text": [
      "[44, 88, 52, 13]\n",
      "Smallest number in list =  13\n"
     ]
    }
   ],
   "source": [
    "a=[44,88,52,13]\n",
    "print(a)\n",
    "print('Smallest number in list = ',min(a))"
   ]
  },
  {
   "cell_type": "markdown",
   "id": "8b10f018",
   "metadata": {},
   "source": [
    "### Program to count number of strings in a list"
   ]
  },
  {
   "cell_type": "code",
   "execution_count": 7,
   "id": "bb1e31c2",
   "metadata": {},
   "outputs": [
    {
     "name": "stdout",
     "output_type": "stream",
     "text": [
      "7\n"
     ]
    }
   ],
   "source": [
    "a=['1','apple','2','banana','3','orange','1']\n",
    "count=0\n",
    "i=0\n",
    "while i<len(a):\n",
    "    count+=1\n",
    "    i+=1\n",
    "print(count)"
   ]
  },
  {
   "cell_type": "markdown",
   "id": "8a28bf15",
   "metadata": {},
   "source": [
    "### Program to check whether list is empty or not"
   ]
  },
  {
   "cell_type": "code",
   "execution_count": 8,
   "id": "04dfa619",
   "metadata": {},
   "outputs": [
    {
     "name": "stdout",
     "output_type": "stream",
     "text": [
      "Enter items as list :\n",
      "Entered list is:  []\n",
      "<class 'list'>\n",
      "list is empty\n"
     ]
    }
   ],
   "source": [
    "n=input('Enter items as list :')\n",
    "m=n.split()\n",
    "print('Entered list is: ',m)\n",
    "print(type(m))\n",
    "if len(m)==0:\n",
    "    print('list is empty')\n",
    "else :\n",
    "    print('List is not empty')"
   ]
  },
  {
   "cell_type": "code",
   "execution_count": null,
   "id": "85ba1592",
   "metadata": {},
   "outputs": [],
   "source": []
  }
 ],
 "metadata": {
  "kernelspec": {
   "display_name": "Python 3 (ipykernel)",
   "language": "python",
   "name": "python3"
  },
  "language_info": {
   "codemirror_mode": {
    "name": "ipython",
    "version": 3
   },
   "file_extension": ".py",
   "mimetype": "text/x-python",
   "name": "python",
   "nbconvert_exporter": "python",
   "pygments_lexer": "ipython3",
   "version": "3.9.12"
  }
 },
 "nbformat": 4,
 "nbformat_minor": 5
}
