{
 "cells": [
  {
   "cell_type": "markdown",
   "id": "5c74c657",
   "metadata": {},
   "source": [
    "### Write a program to create a tuple"
   ]
  },
  {
   "cell_type": "code",
   "execution_count": 1,
   "id": "fdb72862",
   "metadata": {},
   "outputs": [
    {
     "name": "stdout",
     "output_type": "stream",
     "text": [
      "(45, 55, 1, 2, 68, 99, 65, 'Arun', 'Ram')\n",
      "<class 'tuple'>\n"
     ]
    }
   ],
   "source": [
    "t=(45,55,1,2,68,99,65,'Arun','Ram')\n",
    "print(t)\n",
    "print(type(t))"
   ]
  },
  {
   "cell_type": "markdown",
   "id": "0e8279ad",
   "metadata": {},
   "source": [
    "### Write a program to create a tuple with different data types "
   ]
  },
  {
   "cell_type": "code",
   "execution_count": 2,
   "id": "6017cb90",
   "metadata": {},
   "outputs": [
    {
     "name": "stdout",
     "output_type": "stream",
     "text": [
      "(45, 55, 14.66, 77.9, 'Arun', 'Ram', (8+6j))\n"
     ]
    },
    {
     "data": {
      "text/plain": [
       "tuple"
      ]
     },
     "execution_count": 2,
     "metadata": {},
     "output_type": "execute_result"
    }
   ],
   "source": [
    "t=(45,55,14.66,77.9,'Arun','Ram',8+6j)\n",
    "print(t)\n",
    "type(t)"
   ]
  },
  {
   "cell_type": "markdown",
   "id": "03b74581",
   "metadata": {},
   "source": [
    "### Write a program to create a tuple with numbers and print one item"
   ]
  },
  {
   "cell_type": "code",
   "execution_count": 3,
   "id": "0ead4b08",
   "metadata": {},
   "outputs": [
    {
     "name": "stdout",
     "output_type": "stream",
     "text": [
      "(45, 55, 14.66, 77.9, 88)\n",
      "55\n"
     ]
    }
   ],
   "source": [
    "t=(45,55,14.66,77.9,88)\n",
    "print(t)\n",
    "print(t[1])"
   ]
  },
  {
   "cell_type": "markdown",
   "id": "b3ea6a0a",
   "metadata": {},
   "source": [
    "### Write a program to add an item in the tuple"
   ]
  },
  {
   "cell_type": "code",
   "execution_count": 4,
   "id": "e026c9dc",
   "metadata": {},
   "outputs": [
    {
     "name": "stdout",
     "output_type": "stream",
     "text": [
      "Original tuple :  (45, 55, 14.66, 77.9, 88)\n",
      "Adding 29 in the tuple : (45, 55, 14.66, 77.9, 88, 29)\n",
      "Adding items to the tuple at particular index :  (45, 55, 5, 9, 88, 14.66, 77.9, 88)\n"
     ]
    }
   ],
   "source": [
    "t=(45,55,14.66,77.9,88)\n",
    "print('Original tuple : ',t)\n",
    "t1=t+(29,)\n",
    "print('Adding 29 in the tuple :',t1)\n",
    "t2=t[:2]+(5,9,88)+t[2:]\n",
    "print('Adding items to the tuple at particular index : ',t2)"
   ]
  },
  {
   "cell_type": "markdown",
   "id": "36a3a6c6",
   "metadata": {},
   "source": [
    "### Write a program to convert tuple to a string"
   ]
  },
  {
   "cell_type": "code",
   "execution_count": 5,
   "id": "8ddb7ef8",
   "metadata": {},
   "outputs": [
    {
     "name": "stdout",
     "output_type": "stream",
     "text": [
      "(45, 55, 14.66, 77.9, 88)\n",
      "<class 'str'>\n"
     ]
    }
   ],
   "source": [
    "t=(45,55,14.66,77.9,88)\n",
    "t1=str(t)\n",
    "print(t1)\n",
    "print(type(t1))"
   ]
  },
  {
   "cell_type": "markdown",
   "id": "7dc875fc",
   "metadata": {},
   "source": [
    "### Write a program to get the 4th element and the 4th element from the last of a tuple"
   ]
  },
  {
   "cell_type": "code",
   "execution_count": 6,
   "id": "f89ac74e",
   "metadata": {},
   "outputs": [
    {
     "name": "stdout",
     "output_type": "stream",
     "text": [
      "(0, 1, 2, 3, 4, 5, 6, 7, 8, 9)\n",
      "Fourth element of the tuple is :  3\n",
      "Fourth element from the last of the tuple is :  6\n"
     ]
    }
   ],
   "source": [
    "n=(0,1,2,3,4,5,6,7,8,9)\n",
    "print(n)\n",
    "m=n[3]\n",
    "i=n[-4]\n",
    "print('Fourth element of the tuple is : ',m)\n",
    "print('Fourth element from the last of the tuple is : ',i)"
   ]
  },
  {
   "cell_type": "code",
   "execution_count": null,
   "id": "8c79f7d1",
   "metadata": {},
   "outputs": [],
   "source": []
  }
 ],
 "metadata": {
  "kernelspec": {
   "display_name": "Python 3 (ipykernel)",
   "language": "python",
   "name": "python3"
  },
  "language_info": {
   "codemirror_mode": {
    "name": "ipython",
    "version": 3
   },
   "file_extension": ".py",
   "mimetype": "text/x-python",
   "name": "python",
   "nbconvert_exporter": "python",
   "pygments_lexer": "ipython3",
   "version": "3.9.12"
  }
 },
 "nbformat": 4,
 "nbformat_minor": 5
}
