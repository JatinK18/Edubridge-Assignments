{
 "cells": [
  {
   "cell_type": "markdown",
   "id": "19424055",
   "metadata": {},
   "source": [
    "### Q. Write a program to find the repeated items of a tuple"
   ]
  },
  {
   "cell_type": "code",
   "execution_count": 1,
   "id": "d33ffdbd",
   "metadata": {},
   "outputs": [
    {
     "name": "stdout",
     "output_type": "stream",
     "text": [
      "Enter tuple items: 1 2 3 4 5 6 2 1\n",
      "('1', '2', '3', '4', '5', '6', '2', '1')\n",
      "Repeated elements are: \n",
      "('1', '2')\n"
     ]
    }
   ],
   "source": [
    "a=tuple(input('Enter tuple items: ').split())\n",
    "print(a)\n",
    "\n",
    "def tup(n):\n",
    "    m=[]\n",
    "    print('Repeated elements are: ')\n",
    "    for i in n:\n",
    "        if n.count(i)>1:\n",
    "            m.append(i)\n",
    "    b=set(m)\n",
    "    print(tuple(b))\n",
    "tup(a) "
   ]
  },
  {
   "cell_type": "markdown",
   "id": "508452d7",
   "metadata": {},
   "source": [
    "### Q. Write a program to check whether an element exists within a tuple"
   ]
  },
  {
   "cell_type": "code",
   "execution_count": 2,
   "id": "9e9157d0",
   "metadata": {},
   "outputs": [
    {
     "name": "stdout",
     "output_type": "stream",
     "text": [
      "Enter items of tuple: 22 55 88 99 66 33 22\n",
      "('22', '55', '88', '99', '66', '33', '22')\n",
      "Enter element you want to check: 33\n",
      "33 Exist in tuple\n"
     ]
    }
   ],
   "source": [
    "n=tuple(input('Enter items of tuple: ').split())\n",
    "print(n)\n",
    "m=input('Enter element you want to check: ')\n",
    "def exist(x,y):\n",
    "    if y in x:\n",
    "        print(y,'Exist in tuple')\n",
    "    else:\n",
    "        print(y,'Does not exist')\n",
    "exist(n,m)"
   ]
  },
  {
   "cell_type": "markdown",
   "id": "61c81507",
   "metadata": {},
   "source": [
    "### Q. Write a program to convert a list to a tuple"
   ]
  },
  {
   "cell_type": "code",
   "execution_count": 3,
   "id": "37657ff8",
   "metadata": {},
   "outputs": [
    {
     "name": "stdout",
     "output_type": "stream",
     "text": [
      "Enter List elements: 1 2 55 88 99 66 2 3\n",
      "['1', '2', '55', '88', '99', '66', '2', '3']\n",
      "<class 'list'>\n",
      "('1', '2', '55', '88', '99', '66', '2', '3')\n",
      "<class 'tuple'>\n"
     ]
    }
   ],
   "source": [
    "n=list(input('Enter List elements: ').split())\n",
    "def convert(x):\n",
    "    print(x)\n",
    "    print(type(x))\n",
    "    m=tuple(x)\n",
    "    print(m)\n",
    "    print(type(m))\n",
    "convert(n)"
   ]
  },
  {
   "cell_type": "markdown",
   "id": "9cde576e",
   "metadata": {},
   "source": [
    "### Q. Write a program to remove an item from a tuple"
   ]
  },
  {
   "cell_type": "code",
   "execution_count": 4,
   "id": "41b70f77",
   "metadata": {},
   "outputs": [
    {
     "name": "stdout",
     "output_type": "stream",
     "text": [
      "Enter items in tuple: Hello world\n",
      "('Hello', 'world')\n",
      "Enter element you want to remove: Hello\n",
      "('world',)\n"
     ]
    }
   ],
   "source": [
    "n=tuple(input('Enter items in tuple: ').split())\n",
    "print(n)\n",
    "m=input('Enter element you want to remove: ')\n",
    "def rem(x,o):\n",
    "    y=list(x)\n",
    "    y.remove(o)\n",
    "    x=tuple(y)\n",
    "    print(x)\n",
    "\n",
    "rem(n,m)"
   ]
  },
  {
   "cell_type": "markdown",
   "id": "bf85d7c0",
   "metadata": {},
   "source": [
    "### Q. Write a program to slice a tuple"
   ]
  },
  {
   "cell_type": "code",
   "execution_count": 5,
   "id": "8ecef977",
   "metadata": {},
   "outputs": [
    {
     "name": "stdout",
     "output_type": "stream",
     "text": [
      "Enter items in tuple: 11 55 88 99 66 33 22 44 22 55 88 77\n",
      "('11', '55', '88', '99', '66', '33', '22', '44', '22', '55', '88', '77')\n",
      "('88', '99', '66')\n"
     ]
    }
   ],
   "source": [
    "n=tuple(input('Enter items in tuple: ').split())\n",
    "print(n)\n",
    "print(n[2:5])"
   ]
  },
  {
   "cell_type": "markdown",
   "id": "db010bb2",
   "metadata": {},
   "source": [
    "### Q. Write a program to find the index of an item of a tuple"
   ]
  },
  {
   "cell_type": "code",
   "execution_count": 6,
   "id": "88334aaf",
   "metadata": {},
   "outputs": [
    {
     "name": "stdout",
     "output_type": "stream",
     "text": [
      "Enter items in tuple: hey how are you ?\n",
      "('hey', 'how', 'are', 'you', '?')\n",
      "Enter element you want to index of: are\n",
      "Index of are is:  2\n"
     ]
    }
   ],
   "source": [
    "n=tuple(input('Enter items in tuple: ').split())\n",
    "print(n)\n",
    "m=input('Enter element you want to index of: ')\n",
    "def find(x,y):\n",
    "    if y in x:\n",
    "        a=x.index(y)\n",
    "        print('Index of',y,'is: ',a)\n",
    "    else:\n",
    "        print('No such element is present')\n",
    "find(n,m)"
   ]
  },
  {
   "cell_type": "markdown",
   "id": "83c68138",
   "metadata": {},
   "source": [
    "### Q. Write a program to print length of a tuple"
   ]
  },
  {
   "cell_type": "code",
   "execution_count": 7,
   "id": "8d4fe1a3",
   "metadata": {},
   "outputs": [
    {
     "name": "stdout",
     "output_type": "stream",
     "text": [
      "Enter items in tuple: 1 2 3 5 8 9 6 5 4 7 8\n",
      "('1', '2', '3', '5', '8', '9', '6', '5', '4', '7', '8')\n",
      "Length of entered tuple is:  11\n"
     ]
    }
   ],
   "source": [
    "n=tuple(input('Enter items in tuple: ').split())\n",
    "print(n)\n",
    "print('Length of entered tuple is: ',len(n))"
   ]
  },
  {
   "cell_type": "markdown",
   "id": "86ffc68b",
   "metadata": {},
   "source": [
    "### Q. Write a program to convert a tuple to a dictionary"
   ]
  },
  {
   "cell_type": "code",
   "execution_count": 8,
   "id": "bea8815f",
   "metadata": {},
   "outputs": [
    {
     "name": "stdout",
     "output_type": "stream",
     "text": [
      "((1, 'ram'), (2, 'sita'), (3, 'karan'))\n",
      "{1: 'ram', 2: 'sita', 3: 'karan'}\n",
      "<class 'dict'>\n"
     ]
    }
   ],
   "source": [
    "n=((1,'ram'),(2,'sita'),(3,'karan'))\n",
    "print(n)\n",
    "d=dict()\n",
    "for key,value in n:\n",
    "    d[key]=value\n",
    "print(d)\n",
    "print(type(d))"
   ]
  },
  {
   "cell_type": "code",
   "execution_count": null,
   "id": "7cc73994",
   "metadata": {},
   "outputs": [],
   "source": []
  }
 ],
 "metadata": {
  "kernelspec": {
   "display_name": "Python 3 (ipykernel)",
   "language": "python",
   "name": "python3"
  },
  "language_info": {
   "codemirror_mode": {
    "name": "ipython",
    "version": 3
   },
   "file_extension": ".py",
   "mimetype": "text/x-python",
   "name": "python",
   "nbconvert_exporter": "python",
   "pygments_lexer": "ipython3",
   "version": "3.9.12"
  }
 },
 "nbformat": 4,
 "nbformat_minor": 5
}
