{
 "cells": [
  {
   "cell_type": "markdown",
   "id": "a9e2d74f",
   "metadata": {},
   "source": [
    "### Program to check whether the entered number is even or odd"
   ]
  },
  {
   "cell_type": "code",
   "execution_count": 2,
   "id": "856bf1f3",
   "metadata": {},
   "outputs": [
    {
     "name": "stdout",
     "output_type": "stream",
     "text": [
      "Enter any number = 5\n",
      "Entered number is odd\n"
     ]
    }
   ],
   "source": [
    "n=int(input('Enter any number = '))\n",
    "if n%2==0:\n",
    "    print('Entered number is even')\n",
    "else :\n",
    "    print('Entered number is odd')"
   ]
  },
  {
   "cell_type": "markdown",
   "id": "51a7c859",
   "metadata": {},
   "source": [
    "### Program to check whether the entered alphabet is vowel or consonent"
   ]
  },
  {
   "cell_type": "code",
   "execution_count": 3,
   "id": "31811347",
   "metadata": {},
   "outputs": [
    {
     "name": "stdout",
     "output_type": "stream",
     "text": [
      "Enter any alphabet = k\n",
      "Entered alphabet is a consonant\n"
     ]
    }
   ],
   "source": [
    "c=input('Enter any alphabet = ')\n",
    "if c=='a' or c=='e' or c=='i' or c=='o' or c=='u' or c=='A' or c=='E' or c=='I' or c=='O' or c=='U':\n",
    "    print('Entered alphabet is a vowel')\n",
    "else :\n",
    "    print('Entered alphabet is a consonant')"
   ]
  },
  {
   "cell_type": "markdown",
   "id": "3d5d0d06",
   "metadata": {},
   "source": [
    "### Program to check whether a person is elligible to vote or not"
   ]
  },
  {
   "cell_type": "code",
   "execution_count": 4,
   "id": "5af1be03",
   "metadata": {},
   "outputs": [
    {
     "name": "stdout",
     "output_type": "stream",
     "text": [
      "Enter age of the person : 18\n",
      "Person is elligible to vote\n"
     ]
    }
   ],
   "source": [
    "age=int(input('Enter age of the person : '))\n",
    "if age>=18:\n",
    "    print('Person is elligible to vote')\n",
    "else :\n",
    "    print('Person is not elligible to vote')"
   ]
  },
  {
   "cell_type": "markdown",
   "id": "e8d045bd",
   "metadata": {},
   "source": [
    "### Program to check whether the entered number is positive, negative, or zero"
   ]
  },
  {
   "cell_type": "code",
   "execution_count": 6,
   "id": "52ec8cc6",
   "metadata": {},
   "outputs": [
    {
     "name": "stdout",
     "output_type": "stream",
     "text": [
      "Enter any number = -1\n",
      "Entered number is negative\n"
     ]
    }
   ],
   "source": [
    "n = int(input('Enter any number = '))\n",
    "if n>0:\n",
    "    print('Entered number is positive')\n",
    "elif n<0:\n",
    "    print('Entered number is negative')\n",
    "elif n==0:\n",
    "    print('Entered number is zero')\n",
    "else:\n",
    "    print('Wrong input')"
   ]
  },
  {
   "cell_type": "markdown",
   "id": "0b26ea46",
   "metadata": {},
   "source": [
    "### Program to check whether a given year is a leap year or not"
   ]
  },
  {
   "cell_type": "code",
   "execution_count": 7,
   "id": "3d8515ba",
   "metadata": {},
   "outputs": [
    {
     "name": "stdout",
     "output_type": "stream",
     "text": [
      "Enter any year = 2010\n",
      "Entered year is not a leap year\n"
     ]
    }
   ],
   "source": [
    "year = int(input('Enter any year = '))\n",
    "if year%4 == 0 :\n",
    "    print('Entered year is a leap year')\n",
    "else :\n",
    "    print('Entered year is not a leap year')"
   ]
  },
  {
   "cell_type": "markdown",
   "id": "cc29f6c0",
   "metadata": {},
   "source": [
    "### Program to print the type of Triangle"
   ]
  },
  {
   "cell_type": "code",
   "execution_count": 8,
   "id": "ed1ced75",
   "metadata": {},
   "outputs": [
    {
     "name": "stdout",
     "output_type": "stream",
     "text": [
      "Enter length of side 1 : 6\n",
      "Enter length of side 2 : 8\n",
      "Enter length of side 3 : 9\n",
      "Triangle is Scalen\n"
     ]
    }
   ],
   "source": [
    "s1=int(input('Enter length of side 1 : '))\n",
    "s2=int(input('Enter length of side 2 : '))\n",
    "s3=int(input('Enter length of side 3 : '))\n",
    "if s1==s2==s3:\n",
    "    print('Triangle is Equilateral')\n",
    "elif s1==s2 or s2==s3 or s3==s1:\n",
    "    print('Triangle is Isosceles')\n",
    "else :\n",
    "    print('Triangle is Scalen')"
   ]
  },
  {
   "cell_type": "markdown",
   "id": "2d0849f2",
   "metadata": {},
   "source": [
    "### Program to print Profit or loss after entering SP and CP"
   ]
  },
  {
   "cell_type": "code",
   "execution_count": 9,
   "id": "947758fa",
   "metadata": {},
   "outputs": [
    {
     "name": "stdout",
     "output_type": "stream",
     "text": [
      "Enter cost price of product : 5\n",
      "Enter selling price of product : 6\n",
      "Profit\n"
     ]
    }
   ],
   "source": [
    "cp=int(input('Enter cost price of product : '))\n",
    "sp=int(input('Enter selling price of product : '))\n",
    "if sp>cp:\n",
    "    print('Profit')\n",
    "elif sp<cp:\n",
    "    print('Loss')\n",
    "else:\n",
    "    print('No profit no loss')"
   ]
  },
  {
   "cell_type": "code",
   "execution_count": null,
   "id": "7a00c5b3",
   "metadata": {},
   "outputs": [],
   "source": []
  }
 ],
 "metadata": {
  "kernelspec": {
   "display_name": "Python 3 (ipykernel)",
   "language": "python",
   "name": "python3"
  },
  "language_info": {
   "codemirror_mode": {
    "name": "ipython",
    "version": 3
   },
   "file_extension": ".py",
   "mimetype": "text/x-python",
   "name": "python",
   "nbconvert_exporter": "python",
   "pygments_lexer": "ipython3",
   "version": "3.9.12"
  }
 },
 "nbformat": 4,
 "nbformat_minor": 5
}
