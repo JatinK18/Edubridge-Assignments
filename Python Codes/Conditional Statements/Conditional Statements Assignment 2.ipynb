{
 "cells": [
  {
   "cell_type": "markdown",
   "id": "1e456eb6",
   "metadata": {},
   "source": [
    "# Conditional Statements"
   ]
  },
  {
   "cell_type": "markdown",
   "id": "3b97a173",
   "metadata": {},
   "source": [
    "### Even or Odd"
   ]
  },
  {
   "cell_type": "code",
   "execution_count": 4,
   "id": "b34d22df",
   "metadata": {},
   "outputs": [
    {
     "name": "stdout",
     "output_type": "stream",
     "text": [
      "Enter a Number = 5\n",
      "Odd\n"
     ]
    }
   ],
   "source": [
    "x = int(input('Enter a Number = '))\n",
    "if x % 2 ==0:\n",
    "    print(\"Even\")\n",
    "else:\n",
    "    print('Odd')"
   ]
  },
  {
   "cell_type": "markdown",
   "id": "3a3d2108",
   "metadata": {},
   "source": [
    "### Vowel or Consonent"
   ]
  },
  {
   "cell_type": "code",
   "execution_count": 5,
   "id": "371ea69e",
   "metadata": {},
   "outputs": [
    {
     "name": "stdout",
     "output_type": "stream",
     "text": [
      "Enter any Character = e\n",
      "Vowel\n"
     ]
    }
   ],
   "source": [
    "x = input('Enter any Character = ')\n",
    "if (x == 'a') or (x == 'e') or (x == 'i') or (x == 'o') or (x == 'u') or (x == 'A') or (x == 'E') or (x == 'I') or (x == 'O') or (x == 'U') :\n",
    "    print('Vowel')\n",
    "else :\n",
    "    print(\"Consonent\")"
   ]
  },
  {
   "cell_type": "markdown",
   "id": "f447e7f4",
   "metadata": {},
   "source": [
    "### Person is eligible to vote or not"
   ]
  },
  {
   "cell_type": "code",
   "execution_count": 6,
   "id": "0cc24899",
   "metadata": {},
   "outputs": [
    {
     "name": "stdout",
     "output_type": "stream",
     "text": [
      "Enter Age = 16\n",
      "Not Eligible\n"
     ]
    }
   ],
   "source": [
    "age = int(input(\"Enter Age = \"))\n",
    "if age >= 18:\n",
    "    print ('Eligible')\n",
    "else:\n",
    "    print('Not Eligible')"
   ]
  },
  {
   "cell_type": "markdown",
   "id": "27940111",
   "metadata": {},
   "source": [
    "### Whether number is positive, negative or zero"
   ]
  },
  {
   "cell_type": "code",
   "execution_count": 8,
   "id": "05c63a4c",
   "metadata": {},
   "outputs": [
    {
     "name": "stdout",
     "output_type": "stream",
     "text": [
      "Enter a number = 42\n",
      "Positive\n"
     ]
    }
   ],
   "source": [
    "x = int(input('Enter a number = '))\n",
    "if x == 0:\n",
    "    print('Zero')\n",
    "elif x <= 0:\n",
    "    print('Negative')\n",
    "else:\n",
    "    print('Positive')"
   ]
  },
  {
   "cell_type": "markdown",
   "id": "28ab3adf",
   "metadata": {},
   "source": [
    "### Leap year or not"
   ]
  },
  {
   "cell_type": "code",
   "execution_count": 9,
   "id": "5c096ae5",
   "metadata": {},
   "outputs": [
    {
     "name": "stdout",
     "output_type": "stream",
     "text": [
      "Enter any year = 2017\n",
      "Not a Leap Year\n"
     ]
    }
   ],
   "source": [
    "year = int(input('Enter any year = '))\n",
    "if year % 4 == 0:\n",
    "    print('Leap Year')\n",
    "else:\n",
    "    print('Not a Leap Year')"
   ]
  },
  {
   "cell_type": "markdown",
   "id": "8efbea0d",
   "metadata": {},
   "source": [
    "### Type of Triangle"
   ]
  },
  {
   "cell_type": "code",
   "execution_count": 12,
   "id": "d2bcf2db",
   "metadata": {},
   "outputs": [
    {
     "name": "stdout",
     "output_type": "stream",
     "text": [
      "Enter 1st side = 5\n",
      "Enter 2nd side = 5\n",
      "Enter 3rd side = 4\n",
      "Isosceles Triangle\n"
     ]
    }
   ],
   "source": [
    "a = int(input('Enter 1st side = '))\n",
    "b = int(input('Enter 2nd side = '))\n",
    "c = int(input('Enter 3rd side = '))\n",
    "if a==b==c:\n",
    "    print('Equilateral Triangle')\n",
    "elif a != b != c:\n",
    "    print('Scalene Triangle')\n",
    "else:\n",
    "    print('Isosceles Triangle')"
   ]
  },
  {
   "cell_type": "markdown",
   "id": "94be6773",
   "metadata": {},
   "source": [
    "### Profit or Loss"
   ]
  },
  {
   "cell_type": "code",
   "execution_count": 15,
   "id": "23d7e63f",
   "metadata": {},
   "outputs": [
    {
     "name": "stdout",
     "output_type": "stream",
     "text": [
      "Enter Selling Price = 55\n",
      "Enter Cost Price = 55\n",
      "No loss No profit\n"
     ]
    }
   ],
   "source": [
    "sp = int(input('Enter Selling Price = '))\n",
    "cp = int(input('Enter Cost Price = '))\n",
    "if sp > cp:\n",
    "    print('Profit')\n",
    "elif sp<cp:\n",
    "    print('Loss')\n",
    "else :\n",
    "    print('No loss No profit')"
   ]
  },
  {
   "cell_type": "code",
   "execution_count": null,
   "id": "4fd3c7f8",
   "metadata": {},
   "outputs": [],
   "source": []
  }
 ],
 "metadata": {
  "kernelspec": {
   "display_name": "Python 3 (ipykernel)",
   "language": "python",
   "name": "python3"
  },
  "language_info": {
   "codemirror_mode": {
    "name": "ipython",
    "version": 3
   },
   "file_extension": ".py",
   "mimetype": "text/x-python",
   "name": "python",
   "nbconvert_exporter": "python",
   "pygments_lexer": "ipython3",
   "version": "3.9.12"
  }
 },
 "nbformat": 4,
 "nbformat_minor": 5
}
