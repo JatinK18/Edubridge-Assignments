{
 "cells": [
  {
   "cell_type": "markdown",
   "id": "23066f78",
   "metadata": {},
   "source": [
    "### Program to check whether a student is allowed to sit in the class or not"
   ]
  },
  {
   "cell_type": "code",
   "execution_count": 1,
   "id": "894de225",
   "metadata": {
    "scrolled": true
   },
   "outputs": [
    {
     "name": "stdout",
     "output_type": "stream",
     "text": [
      "Enter the total number of classes held = 50\n",
      "Enter the number of classes attended by the student = 45\n",
      "Percentage of class attended by student :  90.0 %\n",
      "Student is allowed to sit in exam\n"
     ]
    }
   ],
   "source": [
    "n=int(input('Enter the total number of classes held = '))\n",
    "m=int(input('Enter the number of classes attended by the student = '))\n",
    "per=(m/n)*100\n",
    "print('Percentage of class attended by student : ',per,'%')\n",
    "if per>=75:\n",
    "    print('Student is allowed to sit in exam')\n",
    "else: \n",
    "    print('Student is not allowed to sit in exam')"
   ]
  },
  {
   "cell_type": "code",
   "execution_count": null,
   "id": "094ddb53",
   "metadata": {},
   "outputs": [],
   "source": []
  }
 ],
 "metadata": {
  "kernelspec": {
   "display_name": "Python 3 (ipykernel)",
   "language": "python",
   "name": "python3"
  },
  "language_info": {
   "codemirror_mode": {
    "name": "ipython",
    "version": 3
   },
   "file_extension": ".py",
   "mimetype": "text/x-python",
   "name": "python",
   "nbconvert_exporter": "python",
   "pygments_lexer": "ipython3",
   "version": "3.9.12"
  }
 },
 "nbformat": 4,
 "nbformat_minor": 5
}
