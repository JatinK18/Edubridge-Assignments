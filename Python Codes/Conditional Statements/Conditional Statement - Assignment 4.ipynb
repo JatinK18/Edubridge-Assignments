{
 "cells": [
  {
   "cell_type": "markdown",
   "id": "185dbf60",
   "metadata": {},
   "source": [
    "### Program to enter year of service and salary and calculate 5% bonus if service is more than 5 years"
   ]
  },
  {
   "cell_type": "code",
   "execution_count": 1,
   "id": "1259430d",
   "metadata": {},
   "outputs": [
    {
     "name": "stdout",
     "output_type": "stream",
     "text": [
      "Enter year of Service = 6\n",
      "Enter Salary of the Employee = 5000\n",
      "Net bonus to be given =  250.0\n",
      "Total salary after bonus =  5250.0\n"
     ]
    }
   ],
   "source": [
    "year = int(input('Enter year of Service = '))\n",
    "if year>=5:\n",
    "    sal=int(input('Enter Salary of the Employee = '))\n",
    "    bonus=sal*0.05\n",
    "    print('Net bonus to be given = ',bonus)\n",
    "    print('Total salary after bonus = ',sal+bonus)\n",
    "else:\n",
    "    print('Service is less than 5 years, not elligible for bonus')"
   ]
  },
  {
   "cell_type": "markdown",
   "id": "537bed2a",
   "metadata": {},
   "source": [
    "### Program to take input of length and breadth of rectangle and check whether it is a square or not"
   ]
  },
  {
   "cell_type": "code",
   "execution_count": 2,
   "id": "c9631fb1",
   "metadata": {},
   "outputs": [
    {
     "name": "stdout",
     "output_type": "stream",
     "text": [
      "Enter length of Rectangle = 5\n",
      "Enter breadth of Rectangle = 5\n",
      "Shape is square\n"
     ]
    }
   ],
   "source": [
    "l=int(input('Enter length of Rectangle = '))\n",
    "b=int(input('Enter breadth of Rectangle = '))\n",
    "if l==b:\n",
    "    print('Shape is square')\n",
    "else:\n",
    "    print('Shape is not square')"
   ]
  },
  {
   "cell_type": "markdown",
   "id": "3ab99408",
   "metadata": {},
   "source": [
    "### Program to take input of age of 3 people and determine the oldest and the youngest among them"
   ]
  },
  {
   "cell_type": "code",
   "execution_count": 3,
   "id": "dc5ea2a9",
   "metadata": {},
   "outputs": [
    {
     "name": "stdout",
     "output_type": "stream",
     "text": [
      "Enter age of 1st person = 45\n",
      "Enter age of 2nd person = 46\n",
      "Enter age of 3rd person = 47\n",
      "3rd person is the oldest\n",
      "1st person is youngest\n"
     ]
    }
   ],
   "source": [
    "p1=int(input('Enter age of 1st person = '))\n",
    "p2=int(input('Enter age of 2nd person = '))\n",
    "p3=int(input('Enter age of 3rd person = '))\n",
    "if p1>p2 and p1>p3:\n",
    "    print('1st person is the Oldest')\n",
    "elif p2>p1 and p2>p3:\n",
    "    print('2nd person is the oldest')\n",
    "else:\n",
    "    print('3rd person is the oldest')\n",
    "if p1<p2 and p1<p3:\n",
    "    print('1st person is youngest')\n",
    "elif p2<p1 and p2<p3:\n",
    "    print('2nd person is youngest')\n",
    "else :\n",
    "    print('3rd person is youngest')"
   ]
  },
  {
   "cell_type": "code",
   "execution_count": null,
   "id": "3a2f4717",
   "metadata": {},
   "outputs": [],
   "source": []
  }
 ],
 "metadata": {
  "kernelspec": {
   "display_name": "Python 3 (ipykernel)",
   "language": "python",
   "name": "python3"
  },
  "language_info": {
   "codemirror_mode": {
    "name": "ipython",
    "version": 3
   },
   "file_extension": ".py",
   "mimetype": "text/x-python",
   "name": "python",
   "nbconvert_exporter": "python",
   "pygments_lexer": "ipython3",
   "version": "3.9.12"
  }
 },
 "nbformat": 4,
 "nbformat_minor": 5
}
