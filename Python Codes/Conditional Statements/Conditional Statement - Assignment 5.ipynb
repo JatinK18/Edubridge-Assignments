{
 "cells": [
  {
   "cell_type": "markdown",
   "id": "93ade588",
   "metadata": {},
   "source": [
    "### Program to take marks as input and enter grade of student"
   ]
  },
  {
   "cell_type": "code",
   "execution_count": 1,
   "id": "682087d8",
   "metadata": {},
   "outputs": [
    {
     "name": "stdout",
     "output_type": "stream",
     "text": [
      "Enter marks obtained by student : 88\n",
      "A\n"
     ]
    }
   ],
   "source": [
    "n=int(input('Enter marks obtained by student : '))\n",
    "if n>80 and n<=100:\n",
    "    print('A')\n",
    "elif n>60 and n<=80:\n",
    "    print('B')\n",
    "elif n>50 and n<=60:\n",
    "    print('C')\n",
    "elif n>45 and n<=50:\n",
    "    print('D')\n",
    "elif n>=25 and n<=45:\n",
    "    print('E')\n",
    "elif n<25 and n>=0:\n",
    "    print('F')\n",
    "else: \n",
    "    print('Wrong input')"
   ]
  },
  {
   "cell_type": "code",
   "execution_count": null,
   "id": "3b687e6b",
   "metadata": {},
   "outputs": [],
   "source": []
  }
 ],
 "metadata": {
  "kernelspec": {
   "display_name": "Python 3 (ipykernel)",
   "language": "python",
   "name": "python3"
  },
  "language_info": {
   "codemirror_mode": {
    "name": "ipython",
    "version": 3
   },
   "file_extension": ".py",
   "mimetype": "text/x-python",
   "name": "python",
   "nbconvert_exporter": "python",
   "pygments_lexer": "ipython3",
   "version": "3.9.12"
  }
 },
 "nbformat": 4,
 "nbformat_minor": 5
}
