{
 "cells": [
  {
   "cell_type": "markdown",
   "id": "6cde0509",
   "metadata": {},
   "source": [
    "### Program to enter any number from 1-12 and print respective month"
   ]
  },
  {
   "cell_type": "code",
   "execution_count": 1,
   "id": "bcf8b287",
   "metadata": {},
   "outputs": [
    {
     "name": "stdout",
     "output_type": "stream",
     "text": [
      "Enter any number from 1- 12 = 4\n",
      "Apr\n"
     ]
    }
   ],
   "source": [
    "n = int(input('Enter any number from 1- 12 = '))\n",
    "if n==1:\n",
    "    print('Jan')\n",
    "elif n==2:\n",
    "    print('Feb')\n",
    "elif n==3:\n",
    "    print('Mar')\n",
    "elif n==4:\n",
    "    print('Apr')\n",
    "elif n==5:\n",
    "    print('May')\n",
    "elif n==6:\n",
    "    print('Jun')\n",
    "elif n==7:\n",
    "    print('July')\n",
    "elif n==8:\n",
    "    print('Aug')\n",
    "elif n==9:\n",
    "    print('Sep')\n",
    "elif n==10:\n",
    "    print('Oct')\n",
    "elif n==11:\n",
    "    print('Nov')\n",
    "elif n==12:\n",
    "    print('Dec')\n",
    "else :\n",
    "    print('Wrong input')"
   ]
  },
  {
   "cell_type": "markdown",
   "id": "70997ca3",
   "metadata": {},
   "source": [
    "### Menu driven program to perform basic operations"
   ]
  },
  {
   "cell_type": "code",
   "execution_count": 2,
   "id": "6a7b9916",
   "metadata": {},
   "outputs": [
    {
     "name": "stdout",
     "output_type": "stream",
     "text": [
      "Menu:\n",
      "1: Addition\n",
      "2: Subtraction\n",
      "3: Multiplication\n",
      "4: Division\n",
      "Enter your choise : 4\n",
      "Enter first num = 42\n",
      "Enter second num = 7\n",
      "Division :  6.0\n"
     ]
    }
   ],
   "source": [
    "print('Menu:\\n1: Addition\\n2: Subtraction\\n3: Multiplication\\n4: Division')\n",
    "n=int(input('Enter your choise : '))\n",
    "if n==1:\n",
    "    a=int(input('Enter first num = '))\n",
    "    b=int(input('Enter second num = '))\n",
    "    print('Addition : ',a+b)\n",
    "elif n==2:\n",
    "    a=int(input('Enter first num = '))\n",
    "    b=int(input('Enter second num = '))\n",
    "    print('Subtraction : ',a-b)\n",
    "elif n==3:\n",
    "    a=int(input('Enter first num = '))\n",
    "    b=int(input('Enter second num = '))\n",
    "    print('Multiplication : ',a*b)\n",
    "elif n==4:\n",
    "    a=int(input('Enter first num = '))\n",
    "    b=int(input('Enter second num = '))\n",
    "    print('Division : ',a/b)\n",
    "else :\n",
    "    print('Wrong input')"
   ]
  },
  {
   "cell_type": "markdown",
   "id": "8b223cdb",
   "metadata": {},
   "source": [
    "### Program to convert temperature from Celsius to Fahrenheit"
   ]
  },
  {
   "cell_type": "code",
   "execution_count": 3,
   "id": "2bff02cd",
   "metadata": {},
   "outputs": [
    {
     "name": "stdout",
     "output_type": "stream",
     "text": [
      "Menu:\n",
      "1: Celsius\n",
      "2: Fahrenheit\n",
      "Enter choice in which you have the value of temperature = 2\n",
      "Enter value of temperature in Fahrenheit = 177\n",
      "Temperature in Celsius =  80.55555555555556\n"
     ]
    }
   ],
   "source": [
    "print('Menu:\\n1: Celsius\\n2: Fahrenheit')\n",
    "n=int(input('Enter choice in which you have the value of temperature = '))\n",
    "if n==1:\n",
    "    temp=int(input('Enter value of temperature in Celsius = '))\n",
    "    con=(temp*(9/5))+32\n",
    "    print('Temperature in Fahrenheit = ',con)\n",
    "elif n==2:\n",
    "    temp1=int(input('Enter value of temperature in Fahrenheit = '))\n",
    "    conv=(temp1-32)*(5/9)\n",
    "    print('Temperature in Celsius = ',conv)\n",
    "else :\n",
    "    print('You have entered a wrong choice')"
   ]
  },
  {
   "cell_type": "code",
   "execution_count": null,
   "id": "ae49967d",
   "metadata": {},
   "outputs": [],
   "source": []
  }
 ],
 "metadata": {
  "kernelspec": {
   "display_name": "Python 3 (ipykernel)",
   "language": "python",
   "name": "python3"
  },
  "language_info": {
   "codemirror_mode": {
    "name": "ipython",
    "version": 3
   },
   "file_extension": ".py",
   "mimetype": "text/x-python",
   "name": "python",
   "nbconvert_exporter": "python",
   "pygments_lexer": "ipython3",
   "version": "3.9.12"
  }
 },
 "nbformat": 4,
 "nbformat_minor": 5
}
