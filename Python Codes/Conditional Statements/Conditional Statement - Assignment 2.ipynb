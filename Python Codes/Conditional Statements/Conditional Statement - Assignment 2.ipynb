{
 "cells": [
  {
   "cell_type": "markdown",
   "id": "f1696c34",
   "metadata": {},
   "source": [
    "### Program to enter 2 num and print the greatest number "
   ]
  },
  {
   "cell_type": "code",
   "execution_count": 1,
   "id": "f36316a3",
   "metadata": {
    "scrolled": true
   },
   "outputs": [
    {
     "name": "stdout",
     "output_type": "stream",
     "text": [
      "Enter first num = 5\n",
      "Enter second num = 4\n",
      "First num is Greater :  5\n"
     ]
    }
   ],
   "source": [
    "n = int(input('Enter first num = '))\n",
    "m = int(input('Enter second num = '))\n",
    "if n>m:\n",
    "    print('First num is Greater : ',n)\n",
    "elif n<m:\n",
    "    print('Second num is Greater : ',m)\n",
    "else :\n",
    "    print ('Both num are equal')"
   ]
  },
  {
   "cell_type": "markdown",
   "id": "eeaa8871",
   "metadata": {},
   "source": [
    "### Program to enter 2 num and print the greatest number "
   ]
  },
  {
   "cell_type": "code",
   "execution_count": 2,
   "id": "75c09060",
   "metadata": {},
   "outputs": [
    {
     "name": "stdout",
     "output_type": "stream",
     "text": [
      "Enter first num = 4\n",
      "Enter second num = 5\n",
      "Greatest number is :  5\n"
     ]
    }
   ],
   "source": [
    "n = int(input('Enter first num = '))\n",
    "m = int(input('Enter second num = '))\n",
    "print('Greatest number is : ',max(m,n))"
   ]
  },
  {
   "cell_type": "markdown",
   "id": "c4a2ce70",
   "metadata": {},
   "source": [
    "### Program to enter 2 num and print the smallest number "
   ]
  },
  {
   "cell_type": "code",
   "execution_count": 3,
   "id": "fb037ebd",
   "metadata": {},
   "outputs": [
    {
     "name": "stdout",
     "output_type": "stream",
     "text": [
      "Enter first num = 2\n",
      "Enter second num = 5\n",
      "First num is Smallest :  2\n"
     ]
    }
   ],
   "source": [
    "n = int(input('Enter first num = '))\n",
    "m = int(input('Enter second num = '))\n",
    "if n<m:\n",
    "    print('First num is Smallest : ',n)\n",
    "elif n>m:\n",
    "    print('Second num is Smallest : ',m)\n",
    "else :\n",
    "    print ('Both num are equal')"
   ]
  },
  {
   "cell_type": "markdown",
   "id": "8f05b832",
   "metadata": {},
   "source": [
    "### Program to enter 2 num and print the smallest number "
   ]
  },
  {
   "cell_type": "code",
   "execution_count": 4,
   "id": "49985c80",
   "metadata": {},
   "outputs": [
    {
     "name": "stdout",
     "output_type": "stream",
     "text": [
      "Enter first num = 5\n",
      "Enter second num = 6\n",
      "Smallest number is :  5\n"
     ]
    }
   ],
   "source": [
    "n = int(input('Enter first num = '))\n",
    "m = int(input('Enter second num = '))\n",
    "print('Smallest number is : ',min(m,n))"
   ]
  },
  {
   "cell_type": "markdown",
   "id": "08c3e0d0",
   "metadata": {},
   "source": [
    "### Program to enter 3 numbers and print the greatest number "
   ]
  },
  {
   "cell_type": "code",
   "execution_count": 5,
   "id": "b875a643",
   "metadata": {},
   "outputs": [
    {
     "name": "stdout",
     "output_type": "stream",
     "text": [
      "Enter first num = 4\n",
      "Enter second num = 5\n",
      "Enter third num = 6\n",
      "Third num is Greatest :  6\n"
     ]
    }
   ],
   "source": [
    "l=int(input('Enter first num = '))\n",
    "m = int(input('Enter second num = '))\n",
    "o = int(input('Enter third num = '))\n",
    "if l>m and l>o:\n",
    "    print('First num is Greatest : ',l)\n",
    "elif m>l and m>o:\n",
    "    print('Second num is Greatest : ',m)\n",
    "elif o>l and o>m:\n",
    "    print('Third num is Greatest : ',o)\n",
    "else :\n",
    "    print('All numbers are equal')"
   ]
  },
  {
   "cell_type": "markdown",
   "id": "b8354a53",
   "metadata": {},
   "source": [
    "### Program to enter 3 numbers and print the greatest number "
   ]
  },
  {
   "cell_type": "code",
   "execution_count": 6,
   "id": "66488e2d",
   "metadata": {},
   "outputs": [
    {
     "name": "stdout",
     "output_type": "stream",
     "text": [
      "Enter first num = 5\n",
      "Enter second num = 7\n",
      "Enter third num = 9\n",
      "The Greatest number is :  9\n"
     ]
    }
   ],
   "source": [
    "l=int(input('Enter first num = '))\n",
    "m = int(input('Enter second num = '))\n",
    "o = int(input('Enter third num = '))\n",
    "print(\"The Greatest number is : \",max(l,m,o))"
   ]
  },
  {
   "cell_type": "markdown",
   "id": "987ccd67",
   "metadata": {},
   "source": [
    "### Program to enter 3 numbers and print the smallest number "
   ]
  },
  {
   "cell_type": "code",
   "execution_count": 7,
   "id": "bd8328c4",
   "metadata": {},
   "outputs": [
    {
     "name": "stdout",
     "output_type": "stream",
     "text": [
      "Enter first num = 5\n",
      "Enter second num = 4\n",
      "Enter third num = 8\n",
      "Second num is Smallest :  4\n"
     ]
    }
   ],
   "source": [
    "l=int(input('Enter first num = '))\n",
    "m = int(input('Enter second num = '))\n",
    "o = int(input('Enter third num = '))\n",
    "if l<m and l<o:\n",
    "    print('First num is Smallest : ',l)\n",
    "elif m<l and m<o:\n",
    "    print('Second num is Smallest : ',m)\n",
    "elif o<l and o<m:\n",
    "    print('Third num is Smallest : ',o)\n",
    "else :\n",
    "    print('All numbers are equal')"
   ]
  },
  {
   "cell_type": "markdown",
   "id": "9f5be543",
   "metadata": {},
   "source": [
    "### Program to enter 3 numbers and print the greatest number "
   ]
  },
  {
   "cell_type": "code",
   "execution_count": 8,
   "id": "3106aab0",
   "metadata": {},
   "outputs": [
    {
     "name": "stdout",
     "output_type": "stream",
     "text": [
      "Enter first num = 5\n",
      "Enter second num = 8\n",
      "Enter third num = 2\n",
      "The Smallest number is :  2\n"
     ]
    }
   ],
   "source": [
    "l=int(input('Enter first num = '))\n",
    "m = int(input('Enter second num = '))\n",
    "o = int(input('Enter third num = '))\n",
    "print(\"The Smallest number is : \",min(l,m,o))"
   ]
  },
  {
   "cell_type": "markdown",
   "id": "9485e0a3",
   "metadata": {},
   "source": [
    "### Program to print roots of quadratic equation"
   ]
  },
  {
   "cell_type": "code",
   "execution_count": 9,
   "id": "5349adbf",
   "metadata": {},
   "outputs": [
    {
     "name": "stdout",
     "output_type": "stream",
     "text": [
      "Enter value of a = 2\n",
      "Enter value of b = 5\n",
      "Enter value of c = 8\n",
      "Roots of quadratic equation is\n",
      "  (-1.25+1.5612494995995996j)  \n",
      " (-1.25-1.5612494995995996j)\n"
     ]
    }
   ],
   "source": [
    "a=int(input(\"Enter value of a = \"))\n",
    "b=int(input('Enter value of b = '))\n",
    "c=int(input('Enter value of c = '))\n",
    "r1 = (-b+((b**2)-4*a*c)**0.5)/(2*a)\n",
    "r2 = (-b-((b**2)-4*a*c)**0.5)/(2*a)\n",
    "print(\"Roots of quadratic equation is\\n \",r1,' \\n',r2)"
   ]
  },
  {
   "cell_type": "markdown",
   "id": "ac88fe48",
   "metadata": {},
   "source": [
    "### Program to enter number from 1-7 and print respective day"
   ]
  },
  {
   "cell_type": "code",
   "execution_count": 10,
   "id": "a6c99b5c",
   "metadata": {},
   "outputs": [
    {
     "name": "stdout",
     "output_type": "stream",
     "text": [
      "Enter number from 1-7 = 5\n",
      "Friday\n"
     ]
    }
   ],
   "source": [
    "n=int(input('Enter number from 1-7 = '))\n",
    "if n == 1:\n",
    "    print('Monday')\n",
    "elif n==2:\n",
    "    print('Tuesday')\n",
    "elif n==3:\n",
    "    print('Wednesday')\n",
    "elif n==4:\n",
    "    print('Thursday')\n",
    "elif n==5:\n",
    "    print('Friday')\n",
    "elif n==6:\n",
    "    print('Saturday')\n",
    "elif n==7:\n",
    "    print('Sunday')\n",
    "else:\n",
    "    print('Wrong input')"
   ]
  },
  {
   "cell_type": "code",
   "execution_count": null,
   "id": "bae75797",
   "metadata": {},
   "outputs": [],
   "source": []
  }
 ],
 "metadata": {
  "kernelspec": {
   "display_name": "Python 3 (ipykernel)",
   "language": "python",
   "name": "python3"
  },
  "language_info": {
   "codemirror_mode": {
    "name": "ipython",
    "version": 3
   },
   "file_extension": ".py",
   "mimetype": "text/x-python",
   "name": "python",
   "nbconvert_exporter": "python",
   "pygments_lexer": "ipython3",
   "version": "3.9.12"
  }
 },
 "nbformat": 4,
 "nbformat_minor": 5
}
