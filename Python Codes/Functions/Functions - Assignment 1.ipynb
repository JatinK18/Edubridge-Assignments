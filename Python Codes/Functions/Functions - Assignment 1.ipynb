{
 "cells": [
  {
   "cell_type": "markdown",
   "id": "6cc65401",
   "metadata": {},
   "source": [
    "### Q. Write a function to find the Max of three numbers"
   ]
  },
  {
   "cell_type": "code",
   "execution_count": 1,
   "id": "82127d85",
   "metadata": {},
   "outputs": [
    {
     "name": "stdout",
     "output_type": "stream",
     "text": [
      "Enter 1st number: 44\n",
      "Enter 2nd number: 88\n",
      "Enter 3rd number: 33\n",
      "Maximum of the given numbers is:  88\n"
     ]
    }
   ],
   "source": [
    "def maxi(x,y,z):\n",
    "    print('Maximum of the given numbers is: ',max(x,y,z))\n",
    "\n",
    "a=int(input('Enter 1st number: '))\n",
    "b=int(input('Enter 2nd number: '))\n",
    "c=int(input('Enter 3rd number: '))\n",
    "maxi(a,b,c)"
   ]
  },
  {
   "cell_type": "markdown",
   "id": "9c9c1262",
   "metadata": {},
   "source": [
    "### Q. Write a function to sum all the numbers in a list"
   ]
  },
  {
   "cell_type": "code",
   "execution_count": 2,
   "id": "424f0d58",
   "metadata": {},
   "outputs": [
    {
     "name": "stdout",
     "output_type": "stream",
     "text": [
      "Enter list elements: 5 6 9 8 2 6\n",
      "Sum of all numbers in list=  36\n"
     ]
    }
   ],
   "source": [
    "def add(n):\n",
    "    i=0\n",
    "    su=0\n",
    "    while i<len(n):\n",
    "        su+=n[i]\n",
    "        i+=1\n",
    "    print('Sum of all numbers in list= ',su)\n",
    "\n",
    "x=list(map(int,input('Enter list elements: ').split()))\n",
    "add(x)"
   ]
  },
  {
   "cell_type": "markdown",
   "id": "ed93bd96",
   "metadata": {},
   "source": [
    "### Q. Write a function to multiply all the numbers in a list"
   ]
  },
  {
   "cell_type": "code",
   "execution_count": 3,
   "id": "20d9a274",
   "metadata": {},
   "outputs": [
    {
     "name": "stdout",
     "output_type": "stream",
     "text": [
      "Enter list elements: 5 3 6 8 9 7\n",
      "Multiplication of all numbers in list=  45360\n"
     ]
    }
   ],
   "source": [
    "def mul(n):\n",
    "    i=0\n",
    "    mu=1\n",
    "    while i<len(n):\n",
    "        mu*=n[i]\n",
    "        i+=1\n",
    "    print('Multiplication of all numbers in list= ',mu)\n",
    "\n",
    "x=list(map(int,input('Enter list elements: ').split()))\n",
    "mul(x)"
   ]
  },
  {
   "cell_type": "markdown",
   "id": "3c9d64e2",
   "metadata": {},
   "source": [
    "### Q. Write a function to reverse a string"
   ]
  },
  {
   "cell_type": "code",
   "execution_count": 4,
   "id": "2e61f25a",
   "metadata": {},
   "outputs": [
    {
     "name": "stdout",
     "output_type": "stream",
     "text": [
      "Enter your string: Hello\n",
      "Reverse of the string is:  olleH\n"
     ]
    }
   ],
   "source": [
    "def st(x):\n",
    "    m=x[::-1]\n",
    "    print('Reverse of the string is: ',m)\n",
    "\n",
    "n=input('Enter your string: ')\n",
    "st(n)"
   ]
  },
  {
   "cell_type": "markdown",
   "id": "ea1915a8",
   "metadata": {},
   "source": [
    "### Q. Write a function to calculate the factorial of a number "
   ]
  },
  {
   "cell_type": "code",
   "execution_count": 5,
   "id": "f9d2a7e4",
   "metadata": {},
   "outputs": [
    {
     "name": "stdout",
     "output_type": "stream",
     "text": [
      "Enter the number: 7\n",
      "Factorial of 7 is:  5040\n"
     ]
    }
   ],
   "source": [
    "def factorial(x):\n",
    "    i=1\n",
    "    fac=1\n",
    "    while i<=x:\n",
    "        fac*=i\n",
    "        i+=1\n",
    "    print('Factorial of',x,'is: ',fac)\n",
    "    \n",
    "n=int(input('Enter the number: '))\n",
    "factorial(n)"
   ]
  },
  {
   "cell_type": "markdown",
   "id": "a20d91ab",
   "metadata": {},
   "source": [
    "### Q. Write a function that accepts a string and calculate the number of uppercase letters and lowercase letters"
   ]
  },
  {
   "cell_type": "code",
   "execution_count": 6,
   "id": "3fe382f1",
   "metadata": {},
   "outputs": [
    {
     "name": "stdout",
     "output_type": "stream",
     "text": [
      "Enter your string: CaseSensitive\n",
      "Uppercase letters:  2\n",
      "Lowercase letters:  11\n"
     ]
    }
   ],
   "source": [
    "def UL(x):\n",
    "    c1=0\n",
    "    c2=0\n",
    "    i=0\n",
    "    while i<len(x):\n",
    "        if x[i].isupper()==True:\n",
    "            c1+=1\n",
    "        else:\n",
    "            c2+=1\n",
    "        i+=1\n",
    "    print('Uppercase letters: ',c1)\n",
    "    print('Lowercase letters: ',c2)\n",
    "\n",
    "n=input('Enter your string: ')\n",
    "UL(n)"
   ]
  },
  {
   "cell_type": "markdown",
   "id": "5631f5b4",
   "metadata": {},
   "source": [
    "### Q. Write a function that takes a list and returns a new list with unique elements of the first list"
   ]
  },
  {
   "cell_type": "code",
   "execution_count": 7,
   "id": "a52199c2",
   "metadata": {},
   "outputs": [
    {
     "name": "stdout",
     "output_type": "stream",
     "text": [
      "Enter list elements: 1 2 3 1 2 44 55 44\n",
      "Entered list:  ['1', '2', '3', '1', '2', '44', '55', '44']\n",
      "Unique elements of list are:  ['1', '2', '3', '44', '55']\n"
     ]
    }
   ],
   "source": [
    "def uniq(x):\n",
    "    l1=[]\n",
    "    print('Entered list: ',x)\n",
    "    for i in x:\n",
    "        if i not in l1:\n",
    "            l1.append(i)\n",
    "    print('Unique elements of list are: ',l1)\n",
    "n=input('Enter list elements: ').split()\n",
    "uniq(n)"
   ]
  }
 ],
 "metadata": {
  "kernelspec": {
   "display_name": "Python 3 (ipykernel)",
   "language": "python",
   "name": "python3"
  },
  "language_info": {
   "codemirror_mode": {
    "name": "ipython",
    "version": 3
   },
   "file_extension": ".py",
   "mimetype": "text/x-python",
   "name": "python",
   "nbconvert_exporter": "python",
   "pygments_lexer": "ipython3",
   "version": "3.9.12"
  }
 },
 "nbformat": 4,
 "nbformat_minor": 5
}
