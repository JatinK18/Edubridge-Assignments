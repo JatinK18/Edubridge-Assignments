{
 "cells": [
  {
   "cell_type": "markdown",
   "id": "c065b362",
   "metadata": {},
   "source": [
    "### Program to print 'Hello Python' 10 times"
   ]
  },
  {
   "cell_type": "code",
   "execution_count": 1,
   "id": "64ee0d9f",
   "metadata": {},
   "outputs": [
    {
     "name": "stdout",
     "output_type": "stream",
     "text": [
      "1 \t Hello Python\n",
      "2 \t Hello Python\n",
      "3 \t Hello Python\n",
      "4 \t Hello Python\n",
      "5 \t Hello Python\n",
      "6 \t Hello Python\n",
      "7 \t Hello Python\n",
      "8 \t Hello Python\n",
      "9 \t Hello Python\n",
      "10 \t Hello Python\n"
     ]
    }
   ],
   "source": [
    "n='Hello Python'\n",
    "i=1\n",
    "while i<=10:\n",
    "    print(i,'\\t',n)\n",
    "    i+=1"
   ]
  },
  {
   "cell_type": "markdown",
   "id": "03871d3d",
   "metadata": {},
   "source": [
    "### Program to print number from 1-10"
   ]
  },
  {
   "cell_type": "code",
   "execution_count": 2,
   "id": "85f2e6c8",
   "metadata": {},
   "outputs": [
    {
     "name": "stdout",
     "output_type": "stream",
     "text": [
      "1\n",
      "2\n",
      "3\n",
      "4\n",
      "5\n",
      "6\n",
      "7\n",
      "8\n",
      "9\n",
      "10\n"
     ]
    }
   ],
   "source": [
    "i=1\n",
    "while i<=10:\n",
    "    print(i)\n",
    "    i+=1"
   ]
  },
  {
   "cell_type": "markdown",
   "id": "21b1a523",
   "metadata": {},
   "source": [
    "### Program to print sum of first 10 numbers"
   ]
  },
  {
   "cell_type": "code",
   "execution_count": 3,
   "id": "d72fe2c3",
   "metadata": {},
   "outputs": [
    {
     "name": "stdout",
     "output_type": "stream",
     "text": [
      "1\n",
      "3\n",
      "6\n",
      "10\n",
      "15\n",
      "21\n",
      "28\n",
      "36\n",
      "45\n",
      "55\n"
     ]
    }
   ],
   "source": [
    "i=1\n",
    "sum=0\n",
    "while i<=10:\n",
    "    sum+=i\n",
    "    print(sum)\n",
    "    i+=1"
   ]
  },
  {
   "cell_type": "markdown",
   "id": "d989a6ba",
   "metadata": {},
   "source": [
    "### Program to print sum of first 10 numbers"
   ]
  },
  {
   "cell_type": "code",
   "execution_count": 4,
   "id": "8d1b6501",
   "metadata": {},
   "outputs": [
    {
     "name": "stdout",
     "output_type": "stream",
     "text": [
      "55\n"
     ]
    }
   ],
   "source": [
    "i=1\n",
    "sum=0\n",
    "while i<=10:\n",
    "    sum+=i\n",
    "    i+=1\n",
    "print(sum) "
   ]
  },
  {
   "cell_type": "markdown",
   "id": "332bc1f5",
   "metadata": {},
   "source": [
    "### Program to print n numbers entered by user"
   ]
  },
  {
   "cell_type": "code",
   "execution_count": 5,
   "id": "5fd704bb",
   "metadata": {},
   "outputs": [
    {
     "name": "stdout",
     "output_type": "stream",
     "text": [
      "Enter a number = 5\n",
      "1\n",
      "2\n",
      "3\n",
      "4\n",
      "5\n"
     ]
    }
   ],
   "source": [
    "n=int(input('Enter a number = '))\n",
    "i=1\n",
    "while i<=n:\n",
    "    print(i)\n",
    "    i+=1"
   ]
  },
  {
   "cell_type": "markdown",
   "id": "7dc279bf",
   "metadata": {},
   "source": [
    "### Program to print sum of n numbers entered by user"
   ]
  },
  {
   "cell_type": "code",
   "execution_count": 7,
   "id": "e64b9a8f",
   "metadata": {},
   "outputs": [
    {
     "name": "stdout",
     "output_type": "stream",
     "text": [
      "Enter a number = 8\n",
      "1\n",
      "3\n",
      "6\n",
      "10\n",
      "15\n",
      "21\n",
      "28\n",
      "36\n"
     ]
    }
   ],
   "source": [
    "n=int(input('Enter a number = '))\n",
    "i=1\n",
    "sum=0\n",
    "while i<=n:\n",
    "    sum+=i\n",
    "    print(sum)\n",
    "    i+=1"
   ]
  },
  {
   "cell_type": "markdown",
   "id": "e035617b",
   "metadata": {},
   "source": [
    "### Program to print sum of n numbers entered by user"
   ]
  },
  {
   "cell_type": "code",
   "execution_count": 8,
   "id": "6f59ae04",
   "metadata": {},
   "outputs": [
    {
     "name": "stdout",
     "output_type": "stream",
     "text": [
      "Enter a number = 6\n",
      "21\n"
     ]
    }
   ],
   "source": [
    "n=int(input('Enter a number = '))\n",
    "i=1\n",
    "sum=0\n",
    "while i<=n:\n",
    "    sum+=i\n",
    "    i+=1\n",
    "print(sum)"
   ]
  },
  {
   "cell_type": "markdown",
   "id": "34d307d1",
   "metadata": {},
   "source": [
    "### Program to print table of a number "
   ]
  },
  {
   "cell_type": "code",
   "execution_count": 9,
   "id": "25215360",
   "metadata": {},
   "outputs": [
    {
     "name": "stdout",
     "output_type": "stream",
     "text": [
      "Enter a num whose table you want to print = 4\n",
      "4 * 1 = 4\n",
      "4 * 2 = 8\n",
      "4 * 3 = 12\n",
      "4 * 4 = 16\n",
      "4 * 5 = 20\n",
      "4 * 6 = 24\n",
      "4 * 7 = 28\n",
      "4 * 8 = 32\n",
      "4 * 9 = 36\n",
      "4 * 10 = 40\n"
     ]
    }
   ],
   "source": [
    "n=int(input('Enter a num whose table you want to print = '))\n",
    "i=1\n",
    "while i<=10:\n",
    "    print(n,'*',i,'=',n*i)\n",
    "    i+=1"
   ]
  },
  {
   "cell_type": "markdown",
   "id": "c98a2fda",
   "metadata": {},
   "source": [
    "### Program to print factorial of a number"
   ]
  },
  {
   "cell_type": "code",
   "execution_count": 10,
   "id": "5c450736",
   "metadata": {},
   "outputs": [
    {
     "name": "stdout",
     "output_type": "stream",
     "text": [
      "Enter a num = 5\n",
      "120\n"
     ]
    }
   ],
   "source": [
    "n=int(input('Enter a num = '))\n",
    "fact=1\n",
    "while n>=1:\n",
    "    fact*=n\n",
    "    n-=1\n",
    "print(fact)"
   ]
  },
  {
   "cell_type": "markdown",
   "id": "26ab24c4",
   "metadata": {},
   "source": [
    "### Program to print even number between 1-100"
   ]
  },
  {
   "cell_type": "code",
   "execution_count": 11,
   "id": "97b20da2",
   "metadata": {},
   "outputs": [
    {
     "name": "stdout",
     "output_type": "stream",
     "text": [
      "Even numbers from 1-100 are : \n",
      "2 , 4 , 6 , 8 , 10 , 12 , 14 , 16 , 18 , 20 , 22 , 24 , 26 , 28 , 30 , 32 , 34 , 36 , 38 , 40 , 42 , 44 , 46 , 48 , 50 , 52 , 54 , 56 , 58 , 60 , 62 , 64 , 66 , 68 , 70 , 72 , 74 , 76 , 78 , 80 , 82 , 84 , 86 , 88 , 90 , 92 , 94 , 96 , 98 , 100 , "
     ]
    }
   ],
   "source": [
    "i=1\n",
    "print('Even numbers from 1-100 are : ')\n",
    "while i<=100:\n",
    "    if i%2==0:\n",
    "        print(i,end=\" , \")\n",
    "    i+=1"
   ]
  },
  {
   "cell_type": "markdown",
   "id": "c1201466",
   "metadata": {},
   "source": [
    "### Program to print odd number between 1-100"
   ]
  },
  {
   "cell_type": "code",
   "execution_count": 12,
   "id": "e8bfdb63",
   "metadata": {},
   "outputs": [
    {
     "name": "stdout",
     "output_type": "stream",
     "text": [
      "odd numbers from 1-100 are : \n",
      "1 , 3 , 5 , 7 , 9 , 11 , 13 , 15 , 17 , 19 , 21 , 23 , 25 , 27 , 29 , 31 , 33 , 35 , 37 , 39 , 41 , 43 , 45 , 47 , 49 , 51 , 53 , 55 , 57 , 59 , 61 , 63 , 65 , 67 , 69 , 71 , 73 , 75 , 77 , 79 , 81 , 83 , 85 , 87 , 89 , 91 , 93 , 95 , 97 , 99 , "
     ]
    }
   ],
   "source": [
    "i=1\n",
    "print('odd numbers from 1-100 are : ')\n",
    "while i<=100:\n",
    "    if i%2!=0:\n",
    "        print(i,end=\" , \")\n",
    "    i+=1"
   ]
  },
  {
   "cell_type": "code",
   "execution_count": null,
   "id": "1d6cdbe0",
   "metadata": {},
   "outputs": [],
   "source": []
  }
 ],
 "metadata": {
  "kernelspec": {
   "display_name": "Python 3 (ipykernel)",
   "language": "python",
   "name": "python3"
  },
  "language_info": {
   "codemirror_mode": {
    "name": "ipython",
    "version": 3
   },
   "file_extension": ".py",
   "mimetype": "text/x-python",
   "name": "python",
   "nbconvert_exporter": "python",
   "pygments_lexer": "ipython3",
   "version": "3.9.12"
  }
 },
 "nbformat": 4,
 "nbformat_minor": 5
}
