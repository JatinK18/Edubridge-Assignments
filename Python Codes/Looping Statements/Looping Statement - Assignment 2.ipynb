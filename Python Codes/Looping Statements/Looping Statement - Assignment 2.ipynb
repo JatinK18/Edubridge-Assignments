{
 "cells": [
  {
   "cell_type": "markdown",
   "id": "435ef7c8",
   "metadata": {},
   "source": [
    "### Program to check whether a number is palindrome or not"
   ]
  },
  {
   "cell_type": "code",
   "execution_count": 1,
   "id": "9e42d6a9",
   "metadata": {},
   "outputs": [
    {
     "name": "stdout",
     "output_type": "stream",
     "text": [
      "Enter any number = 123456\n",
      "Number is not palindrome\n"
     ]
    }
   ],
   "source": [
    "n=int(input('Enter any number = '))\n",
    "temp = n\n",
    "rev = 0\n",
    "while n>0:\n",
    "    rem=n%10\n",
    "    rev=rev*10+rem\n",
    "    n//=10\n",
    "if rev==temp:\n",
    "    print('Number is palindrome')\n",
    "else :\n",
    "    print('Number is not palindrome')"
   ]
  },
  {
   "cell_type": "markdown",
   "id": "5774a8ff",
   "metadata": {},
   "source": [
    "### Program to print the factors of a number "
   ]
  },
  {
   "cell_type": "code",
   "execution_count": 2,
   "id": "835dc404",
   "metadata": {},
   "outputs": [
    {
     "name": "stdout",
     "output_type": "stream",
     "text": [
      "Enter any number = 21\n",
      "1,3,7,21,"
     ]
    }
   ],
   "source": [
    "n=int(input('Enter any number = '))\n",
    "i=1\n",
    "while i<=n:\n",
    "    if (n % i == 0):\n",
    "        print(i,end=\",\")\n",
    "    i+=1"
   ]
  },
  {
   "cell_type": "markdown",
   "id": "b159afa9",
   "metadata": {},
   "source": [
    "### Program to print reverse of a number "
   ]
  },
  {
   "cell_type": "code",
   "execution_count": 3,
   "id": "5083cccf",
   "metadata": {},
   "outputs": [
    {
     "name": "stdout",
     "output_type": "stream",
     "text": [
      "Enter any number = 1235896\n",
      "Reverse of the number is :  6985321\n"
     ]
    }
   ],
   "source": [
    "n=int(input('Enter any number = '))\n",
    "temp = n\n",
    "rev=0\n",
    "while n>0:\n",
    "    rem=n%10\n",
    "    rev=rev*10+rem\n",
    "    n//=10\n",
    "print('Reverse of the number is : ',rev)"
   ]
  },
  {
   "cell_type": "markdown",
   "id": "3c2b4bbe",
   "metadata": {},
   "source": [
    "### Program to print sum of reverse of a number "
   ]
  },
  {
   "cell_type": "code",
   "execution_count": 4,
   "id": "3ba7b55b",
   "metadata": {},
   "outputs": [
    {
     "name": "stdout",
     "output_type": "stream",
     "text": [
      "Enter any number = 125896\n",
      "Reverse of the number is :  698521\n",
      "Sum of Reverse of number is :  31\n"
     ]
    }
   ],
   "source": [
    "n=int(input('Enter any number = '))\n",
    "temp=n\n",
    "rev=0\n",
    "sum1=0\n",
    "while n>0:\n",
    "    rem=n%10\n",
    "    rev=rev*10+rem\n",
    "    sum1+=rem\n",
    "    n//=10\n",
    "print('Reverse of the number is : ',rev)\n",
    "print('Sum of Reverse of number is : ',sum1)"
   ]
  },
  {
   "cell_type": "markdown",
   "id": "6e003b9a",
   "metadata": {},
   "source": [
    "### Program to check whether a number is prime or not"
   ]
  },
  {
   "cell_type": "code",
   "execution_count": 5,
   "id": "cc19be96",
   "metadata": {},
   "outputs": [
    {
     "name": "stdout",
     "output_type": "stream",
     "text": [
      "enter any number : 5\n",
      "5 is prime number\n"
     ]
    }
   ],
   "source": [
    "n = int(input('enter any number : '))\n",
    "i = 1\n",
    "count = 0\n",
    "for i in range(1,n+1):\n",
    "    if n%i==0:\n",
    "        count = count+1\n",
    "    i+=1\n",
    "if count==2:\n",
    "    print(n, \"is prime number\")\n",
    "else:\n",
    "    print(n, \"is not a prime number\")"
   ]
  },
  {
   "cell_type": "markdown",
   "id": "0a2607cd",
   "metadata": {},
   "source": [
    "### Program to check whether a number is prime or not using while loop"
   ]
  },
  {
   "cell_type": "code",
   "execution_count": 6,
   "id": "3b5d7a31",
   "metadata": {},
   "outputs": [
    {
     "name": "stdout",
     "output_type": "stream",
     "text": [
      "Enter any number = 41\n",
      "41 is a prime number\n"
     ]
    }
   ],
   "source": [
    "n=int(input('Enter any number = '))\n",
    "i=1\n",
    "count=0\n",
    "while i<=n:\n",
    "    if n%i==0:\n",
    "        count+=1\n",
    "    i+=1\n",
    "if count==2:\n",
    "    print(n,'is a prime number')\n",
    "else:\n",
    "    print(n,'is not a prime number')"
   ]
  },
  {
   "cell_type": "markdown",
   "id": "e18fc205",
   "metadata": {},
   "source": [
    "### Program to print reverse order of a number entered by a user "
   ]
  },
  {
   "cell_type": "code",
   "execution_count": 7,
   "id": "1a6537e2",
   "metadata": {},
   "outputs": [
    {
     "name": "stdout",
     "output_type": "stream",
     "text": [
      "Enter any number = 145896\n",
      "Reverse of the number is :  698541\n"
     ]
    }
   ],
   "source": [
    "n=int(input('Enter any number = '))\n",
    "temp = n\n",
    "rev=0\n",
    "while n>0:\n",
    "    rem=n%10\n",
    "    rev=rev*10+rem\n",
    "    n//=10\n",
    "print('Reverse of the number is : ',rev)"
   ]
  },
  {
   "cell_type": "markdown",
   "id": "d57c4592",
   "metadata": {},
   "source": [
    "### Program to print the cube of all the numbers from 1 to n"
   ]
  },
  {
   "cell_type": "code",
   "execution_count": 8,
   "id": "e77d4f30",
   "metadata": {},
   "outputs": [
    {
     "name": "stdout",
     "output_type": "stream",
     "text": [
      "Enter a num = 5\n",
      "Cube of 1 \t:  1\n",
      "Cube of 2 \t:  8\n",
      "Cube of 3 \t:  27\n",
      "Cube of 4 \t:  64\n",
      "Cube of 5 \t:  125\n"
     ]
    }
   ],
   "source": [
    "n=int(input('Enter a num = '))\n",
    "for i in range(n):\n",
    "    i+=1\n",
    "    print('Cube of',i,'\\t: ',i**3)"
   ]
  },
  {
   "cell_type": "markdown",
   "id": "0cb7ba39",
   "metadata": {},
   "source": [
    "### Program to print all prime numbers from 1-100"
   ]
  },
  {
   "cell_type": "code",
   "execution_count": 9,
   "id": "20c9bcb8",
   "metadata": {},
   "outputs": [
    {
     "name": "stdout",
     "output_type": "stream",
     "text": [
      "2 , 3 , 5 , 7 , 11 , 13 , 17 , 19 , 23 , 29 , 31 , 37 , 41 , 43 , 47 , 53 , 59 , 61 , 67 , 71 , 73 , 79 , 83 , 89 , 97 , "
     ]
    }
   ],
   "source": [
    "n = 1\n",
    "while(n <= 100):\n",
    "    count = 0\n",
    "    i = 2\n",
    "    while(i <= n//2):\n",
    "        if(n % i == 0):\n",
    "            count+=1\n",
    "            break\n",
    "        i+=1\n",
    "    if (count == 0 and n != 1):\n",
    "        print(n, end = ' , ')\n",
    "    n+=1"
   ]
  },
  {
   "cell_type": "code",
   "execution_count": null,
   "id": "b5300133",
   "metadata": {},
   "outputs": [],
   "source": []
  }
 ],
 "metadata": {
  "kernelspec": {
   "display_name": "Python 3 (ipykernel)",
   "language": "python",
   "name": "python3"
  },
  "language_info": {
   "codemirror_mode": {
    "name": "ipython",
    "version": 3
   },
   "file_extension": ".py",
   "mimetype": "text/x-python",
   "name": "python",
   "nbconvert_exporter": "python",
   "pygments_lexer": "ipython3",
   "version": "3.9.12"
  }
 },
 "nbformat": 4,
 "nbformat_minor": 5
}
