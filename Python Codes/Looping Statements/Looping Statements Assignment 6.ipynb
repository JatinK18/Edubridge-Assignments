{
 "cells": [
  {
   "cell_type": "markdown",
   "id": "8dde7576",
   "metadata": {},
   "source": [
    "### Number of digits in a number"
   ]
  },
  {
   "cell_type": "code",
   "execution_count": 6,
   "id": "815de5b8",
   "metadata": {},
   "outputs": [
    {
     "name": "stdout",
     "output_type": "stream",
     "text": [
      "enter any number:1705\n",
      "no.of digits in a number = 4\n"
     ]
    }
   ],
   "source": [
    "n = int(input('enter any number:'))\n",
    "i = 1\n",
    "count = 0\n",
    "for i in range(n):\n",
    "    rem = n%10\n",
    "    n = n//10\n",
    "    count = count + 1 \n",
    "    if n==0:\n",
    "        break\n",
    "print(\"no.of digits in a number =\", count)"
   ]
  },
  {
   "cell_type": "markdown",
   "id": "0f4d0b46",
   "metadata": {},
   "source": [
    "### Amstrong Number - sum of cube of digits equal to number "
   ]
  },
  {
   "cell_type": "code",
   "execution_count": 8,
   "id": "f61e4259",
   "metadata": {},
   "outputs": [
    {
     "name": "stdout",
     "output_type": "stream",
     "text": [
      "enter any number:371\n",
      "371 is amstrong number\n"
     ]
    }
   ],
   "source": [
    "n = int(input('enter any number:'))\n",
    "org = n\n",
    "i = 1\n",
    "sum = 0\n",
    "for i in range(n):\n",
    "    rem = n%10\n",
    "    cube = rem**3\n",
    "    n = n//10\n",
    "    sum = sum + cube \n",
    "    if n==0:\n",
    "        break\n",
    "if org==sum:\n",
    "    print(org, \"is amstrong number\")\n",
    "else:\n",
    "    print(org, \"is not amstrong number\")"
   ]
  },
  {
   "cell_type": "markdown",
   "id": "54b8aa8b",
   "metadata": {},
   "source": [
    "### Strong number - sum of factorial of digits equal to number"
   ]
  },
  {
   "cell_type": "code",
   "execution_count": 5,
   "id": "615ca743",
   "metadata": {},
   "outputs": [
    {
     "name": "stdout",
     "output_type": "stream",
     "text": [
      "enter any number:145\n",
      "145 is strong number\n"
     ]
    }
   ],
   "source": [
    "n = int(input('enter any number:'))\n",
    "org = n\n",
    "i = 1\n",
    "sum = 0\n",
    "for i in range(n):\n",
    "    rem = n%10\n",
    "    j=1\n",
    "    fac=1\n",
    "    for j in range(1,rem+1):\n",
    "        fac = fac*j\n",
    "    sum = sum + fac\n",
    "    n = n//10\n",
    "    if n==0:\n",
    "        break\n",
    "if org==sum:\n",
    "    print(org, \"is strong number\")\n",
    "else:\n",
    "    print(org, \"is not strong number\")"
   ]
  },
  {
   "cell_type": "markdown",
   "id": "76249d82",
   "metadata": {},
   "source": [
    "### Perfect number - sum of factors equal to number"
   ]
  },
  {
   "cell_type": "code",
   "execution_count": 10,
   "id": "f808001b",
   "metadata": {},
   "outputs": [
    {
     "name": "stdout",
     "output_type": "stream",
     "text": [
      "enter any number:6\n",
      "6 is perfect number\n"
     ]
    }
   ],
   "source": [
    "n = int(input('enter any number:'))\n",
    "org = n\n",
    "i = 1\n",
    "sum = 0\n",
    "for i in range(1,n):\n",
    "    if n%i==0:\n",
    "        sum = sum + i\n",
    "if org==sum:\n",
    "    print(org, \"is perfect number\")\n",
    "else:\n",
    "    print(org, \"is not perfect number\")"
   ]
  },
  {
   "cell_type": "markdown",
   "id": "76e4358f",
   "metadata": {},
   "source": [
    "### Fibonacci series"
   ]
  },
  {
   "cell_type": "code",
   "execution_count": 15,
   "id": "0b43c274",
   "metadata": {},
   "outputs": [
    {
     "name": "stdout",
     "output_type": "stream",
     "text": [
      "enter no.of terms want:10\n",
      "0,1,1,2,3,5,8,13,21,34,"
     ]
    }
   ],
   "source": [
    "t1 = 0\n",
    "t2 = 1\n",
    "n = int(input('enter no.of terms want:'))\n",
    "nxt_trm = t1 + t2\n",
    "print(t1, end = ',')\n",
    "print(t2, end = ',')\n",
    "for i in range(3,n+1):\n",
    "    print(nxt_trm, end = ',')\n",
    "    t1 = t2\n",
    "    t2 = nxt_trm\n",
    "    nxt_trm = t1 + t2"
   ]
  },
  {
   "cell_type": "code",
   "execution_count": null,
   "id": "1cf96289",
   "metadata": {},
   "outputs": [],
   "source": []
  }
 ],
 "metadata": {
  "kernelspec": {
   "display_name": "Python 3 (ipykernel)",
   "language": "python",
   "name": "python3"
  },
  "language_info": {
   "codemirror_mode": {
    "name": "ipython",
    "version": 3
   },
   "file_extension": ".py",
   "mimetype": "text/x-python",
   "name": "python",
   "nbconvert_exporter": "python",
   "pygments_lexer": "ipython3",
   "version": "3.9.12"
  }
 },
 "nbformat": 4,
 "nbformat_minor": 5
}
